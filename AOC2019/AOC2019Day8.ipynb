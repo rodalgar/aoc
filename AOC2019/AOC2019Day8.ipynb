{
 "cells": [
  {
   "cell_type": "markdown",
   "metadata": {},
   "source": [
    "# Day 8: Space Image Format\n",
    "https://adventofcode.com/2019/day/8\n",
    "\n",
    "## Part 1"
   ]
  },
  {
   "cell_type": "code",
   "execution_count": null,
   "metadata": {},
   "outputs": [],
   "source": [
    "import numpy as np\n",
    "import urllib.request\n",
    "import math\n",
    "import itertools\n",
    "import re"
   ]
  },
  {
   "cell_type": "markdown",
   "metadata": {},
   "source": [
    "### Parser"
   ]
  },
  {
   "cell_type": "code",
   "execution_count": null,
   "metadata": {},
   "outputs": [],
   "source": [
    "def parseSIFLayer(rawlayer, width):\n",
    "    p = 0\n",
    "    layer = []\n",
    "    while p < len(rawlayer):\n",
    "        lineLimit = p + width\n",
    "        line = rawlayer[p:lineLimit]\n",
    "        p = lineLimit\n",
    "        layer.append(line)\n",
    "    return layer\n",
    "\n",
    "def parseSIF(rawData, width, height):\n",
    "    layerSize = width * height\n",
    "    p = 0\n",
    "    image = []\n",
    "    while p < len(rawData):\n",
    "        layerLimit = p + layerSize\n",
    "        rawlayer = rawData[p:layerLimit]\n",
    "        p = layerLimit\n",
    "        layer = parseSIFLayer(rawlayer, width)\n",
    "        image.append(layer)\n",
    "    return image\n",
    "    "
   ]
  },
  {
   "cell_type": "markdown",
   "metadata": {},
   "source": [
    "#### Test:\n",
    "\n",
    "* Image \"123456789012\", 3 pixels wide and 2 pixels tall. Yields:\n",
    "\n",
    "```\n",
    "Layer 1: 123\n",
    "         456\n",
    "\n",
    "Layer 2: 789\n",
    "         012\n",
    "```"
   ]
  },
  {
   "cell_type": "code",
   "execution_count": null,
   "metadata": {
    "scrolled": true
   },
   "outputs": [],
   "source": [
    "test_img = parseSIF(\"123456789012\", 3, 2)\n",
    "test_img"
   ]
  },
  {
   "cell_type": "markdown",
   "metadata": {},
   "source": [
    "### Check Image"
   ]
  },
  {
   "cell_type": "code",
   "execution_count": null,
   "metadata": {},
   "outputs": [],
   "source": [
    "def countDigitInLayer(layerSif, digit):\n",
    "    digits = 0\n",
    "    for line in layerSif:\n",
    "        digits += len(re.sub(f'[^{digit}]', \"\", line))\n",
    "    return digits\n",
    "\n",
    "def getLayerWithLessZeroes(imageSIF):\n",
    "    # check if image has any layers\n",
    "    if len(imageSIF) == 0:\n",
    "        return -1\n",
    "    #It has at least one\n",
    "    #Init values\n",
    "    bestLayer = None\n",
    "    bestZeroes = (len(imageSIF[0][0]) * len(imageSIF[0])) + 1\n",
    "    \n",
    "    for layer in imageSIF:\n",
    "        zeroes = countDigitInLayer(layer, '0')\n",
    "        if zeroes < bestZeroes:\n",
    "            bestZeroes = zeroes\n",
    "            bestLayer = layer\n",
    "    return bestLayer\n",
    "\n",
    "def checkImageSIF(imageSIF):\n",
    "    #obtain layer with fewer zeroes\n",
    "    bestLayer = getLayerWithLessZeroes(imageSIF)\n",
    "    #get a = 1 digits in that layer\n",
    "    digits_one = countDigitInLayer(bestLayer, '1')\n",
    "    #get b = 2 digits in that layer\n",
    "    digits_two = countDigitInLayer(bestLayer, '2')\n",
    "    #return a * b\n",
    "    return digits_one * digits_two"
   ]
  },
  {
   "cell_type": "markdown",
   "metadata": {},
   "source": [
    "#### Test\n",
    "\n",
    "##### Test 1:\n",
    "* [['123', '456'], ['789', '012']]. Yields 1"
   ]
  },
  {
   "cell_type": "code",
   "execution_count": null,
   "metadata": {
    "scrolled": true
   },
   "outputs": [],
   "source": [
    "test_img = [['123', '456'], ['789', '012']]\n",
    "\n",
    "checkImageSIF(test_img)"
   ]
  },
  {
   "cell_type": "markdown",
   "metadata": {},
   "source": [
    "##### Test 2:\n",
    "* [['113120', '456456'], ['789789', '012012']]. Yields 3"
   ]
  },
  {
   "cell_type": "code",
   "execution_count": null,
   "metadata": {},
   "outputs": [],
   "source": [
    "test_img = [['113120', '456456'], ['789789', '012012']]\n",
    "\n",
    "checkImageSIF(test_img)"
   ]
  },
  {
   "cell_type": "markdown",
   "metadata": {},
   "source": [
    "### Solution"
   ]
  },
  {
   "cell_type": "code",
   "execution_count": null,
   "metadata": {},
   "outputs": [],
   "source": [
    "input_8 = r'data\\aoc2019-input-day8.txt'\n",
    "with open(input_8, 'r') as f:\n",
    "    data8 = f.read()"
   ]
  },
  {
   "cell_type": "code",
   "execution_count": null,
   "metadata": {},
   "outputs": [],
   "source": [
    "data8"
   ]
  },
  {
   "cell_type": "code",
   "execution_count": null,
   "metadata": {},
   "outputs": [],
   "source": [
    "image_code_BIOS = parseSIF(data8, 25, 6)"
   ]
  },
  {
   "cell_type": "code",
   "execution_count": null,
   "metadata": {},
   "outputs": [],
   "source": [
    "checkImageSIF(image_code_BIOS)"
   ]
  },
  {
   "cell_type": "markdown",
   "metadata": {},
   "source": [
    ">>>OUTPUT: 2318"
   ]
  },
  {
   "cell_type": "markdown",
   "metadata": {},
   "source": [
    "## Part 2\n",
    "\n",
    "### Render"
   ]
  },
  {
   "cell_type": "code",
   "execution_count": null,
   "metadata": {},
   "outputs": [],
   "source": [
    "def renderSIF(imageSIF):\n",
    "    if len(imageSIF) == 0:\n",
    "        return None\n",
    "    \n",
    "    #get dimensions\n",
    "    width  = len(imageSIF[0][0])\n",
    "    height = len(imageSIF[0])\n",
    "    \n",
    "    #create result\n",
    "    image = np.full([height, width], 2)\n",
    "    \n",
    "    #rendering layers\n",
    "\n",
    "    for layer in imageSIF:\n",
    "        #TODO: Check if all pixels are not transparent in the final image so we can skip other layers\n",
    "        for num_line in range(len(layer)):\n",
    "            #TODO: Check if all pixels of this row in the final image are not transparents so we can skip this one\n",
    "            line = layer[num_line]\n",
    "            for num_col in range(len(line)):\n",
    "                if image[num_line][num_col] == 2:\n",
    "                    col = line[num_col:num_col+1]\n",
    "                    image[num_line][num_col] = int(col)\n",
    "                    \n",
    "    return image"
   ]
  },
  {
   "cell_type": "code",
   "execution_count": null,
   "metadata": {},
   "outputs": [],
   "source": [
    "renderSIF(test_img)\n",
    "# print(test_img)"
   ]
  },
  {
   "cell_type": "code",
   "execution_count": null,
   "metadata": {},
   "outputs": [],
   "source": [
    "m = np.array([[[1,2,3], [4,5,6]], [[7,8,9], [1,2]]])\n",
    "print(m[0][1][2])\n",
    "m[0][1][2] = 99\n",
    "print(m[0][1][2])\n",
    "\n",
    "m2 = np.zeros([2, 3])\n",
    "print(m2)"
   ]
  },
  {
   "cell_type": "markdown",
   "metadata": {},
   "source": [
    "### Test\n",
    "\n",
    "* Image 0222112222120000\n",
    "* Shape 2x2\n",
    "* Yields:\n",
    "```\n",
    "01\n",
    "10\n",
    "```"
   ]
  },
  {
   "cell_type": "code",
   "execution_count": null,
   "metadata": {},
   "outputs": [],
   "source": [
    "raw_image_test = \"0222112222120000\"\n",
    "image_test = parseSIF(raw_image_test, 2, 2)\n",
    "print(image_test)\n",
    "renderSIF(image_test)"
   ]
  },
  {
   "cell_type": "markdown",
   "metadata": {},
   "source": [
    "### Solution"
   ]
  },
  {
   "cell_type": "code",
   "execution_count": null,
   "metadata": {},
   "outputs": [],
   "source": [
    "np.set_printoptions(linewidth=200)\n",
    "renderSIF(image_code_BIOS)"
   ]
  },
  {
   "cell_type": "markdown",
   "metadata": {},
   "source": [
    "Code seems to be:\n",
    "\n",
    "AHFCB"
   ]
  },
  {
   "cell_type": "markdown",
   "metadata": {},
   "source": [
    ">>>SOLUTION: AHFCB"
   ]
  }
 ],
 "metadata": {
  "kernelspec": {
   "display_name": "Python 3",
   "language": "python",
   "name": "python3"
  },
  "language_info": {
   "codemirror_mode": {
    "name": "ipython",
    "version": 3
   },
   "file_extension": ".py",
   "mimetype": "text/x-python",
   "name": "python",
   "nbconvert_exporter": "python",
   "pygments_lexer": "ipython3",
   "version": "3.6.9"
  }
 },
 "nbformat": 4,
 "nbformat_minor": 2
}
