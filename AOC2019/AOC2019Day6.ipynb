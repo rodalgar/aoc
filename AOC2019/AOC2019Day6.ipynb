{
 "cells": [
  {
   "cell_type": "markdown",
   "metadata": {},
   "source": [
    "# Day 6: Universal Orbit Map\n",
    "https://adventofcode.com/2019/day/6\n",
    "\n",
    "## Part 1"
   ]
  },
  {
   "cell_type": "code",
   "execution_count": null,
   "metadata": {},
   "outputs": [],
   "source": [
    "import numpy as np\n",
    "import urllib.request\n",
    "import math"
   ]
  },
  {
   "cell_type": "code",
   "execution_count": null,
   "metadata": {},
   "outputs": [],
   "source": [
    "class OMNode():\n",
    "    key = None\n",
    "    parentKey = None\n",
    "    \n",
    "    def __init__(self, key):\n",
    "        self.key = key\n",
    "    \n",
    "    def toString(self):\n",
    "        return 'NODE {} ORBITS {}'.format(self.key, self.parentKey)\n",
    "\n",
    "\n",
    "class OMMap():\n",
    "    nodes = None\n",
    "    nodeOrigen = None\n",
    "    \n",
    "    def __init__(self, originNode):\n",
    "        self.nodes = {}\n",
    "        self.nodeOrigen = originNode\n",
    "    \n",
    "    def loadMap(self, rawMap):\n",
    "        rawMap = rawMap.split('\\n')\n",
    "        \n",
    "        # Adding origin node to map\n",
    "        originNode = OMNode(self.nodeOrigen)\n",
    "        self.nodes[originNode.key] = originNode\n",
    "        \n",
    "        for orbit in rawMap:\n",
    "            if len(orbit) == 0:\n",
    "                continue\n",
    "            items = orbit.split(')')\n",
    "#             print(items)\n",
    "            assert( len(items) == 2 )\n",
    "            parentKey = items[0]\n",
    "            childKey = items[1]\n",
    "            \n",
    "#             print('{} ORBITS {}'.format(childKey, parentKey))\n",
    "            if parentKey not in self.nodes:\n",
    "                parentNode = OMNode(parentKey)\n",
    "                self.nodes[parentNode.key] = parentNode\n",
    "            if childKey not in self.nodes:\n",
    "                childNode = OMNode(childKey)\n",
    "                self.nodes[childNode.key] = childNode\n",
    "            # Assing parent to child\n",
    "            # TODO: CHECK IF CHILD ALREADY HAS ANOTHER PARENT!!\n",
    "            childNode = self.nodes[childKey]\n",
    "            childNode.parentKey = parentKey\n",
    "            \n",
    "    def printMap(self):\n",
    "        for i in self.nodes:\n",
    "            print(self.nodes[i].toString())\n",
    "    \n",
    "    def getDirectOrbitFrom(self, nodeKey):\n",
    "        if self.nodes[nodeKey].parentKey in self.nodes:\n",
    "            return self.nodes[self.nodes[nodeKey].parentKey]\n",
    "        else:\n",
    "            return None\n",
    "\n",
    "    def getIndirectOrbitsFrom(self, nodeKey):\n",
    "        indirects = []\n",
    "        maxlimit = 5000\n",
    "        limit = 0\n",
    "        \n",
    "        node = self.nodes[nodeKey]\n",
    "        \n",
    "        if node.parentKey == None:\n",
    "            return indirects\n",
    "        \n",
    "        nodeKey = node.parentKey\n",
    "        while True:\n",
    "            limit += 1\n",
    "            if limit > maxlimit:\n",
    "                raise Exception('Iteration limit {} exceded!!!'.format(maxlimit))\n",
    "\n",
    "            parent = self.getDirectOrbitFrom(nodeKey)\n",
    "            if parent == None:\n",
    "                break\n",
    "            else:\n",
    "                indirects.append(parent)\n",
    "                nodeKey = parent.key\n",
    "                \n",
    "        return indirects\n",
    "\n",
    "    def getTotalOrbits(self):\n",
    "        totalOrbits = 0\n",
    "        for node in self.nodes:\n",
    "            if self.getDirectOrbitFrom(node) != None:\n",
    "                totalOrbits += 1\n",
    "            totalOrbits += len(self.getIndirectOrbitsFrom(node))\n",
    "        return totalOrbits"
   ]
  },
  {
   "cell_type": "markdown",
   "metadata": {},
   "source": [
    "### Tests\n",
    "\n",
    "Given this input:\n",
    "\n",
    "<code>\n",
    "COM)B\n",
    "B)C\n",
    "C)D\n",
    "D)E\n",
    "E)F\n",
    "B)G\n",
    "G)H\n",
    "D)I\n",
    "E)J\n",
    "J)K\n",
    "K)L\n",
    "</code>\n",
    "\n",
    "<code>\n",
    "        G - H       J - K - L\n",
    "       /           /\n",
    "COM - B - C - D - E - F\n",
    "               \\\n",
    "                I\n",
    "</code>"
   ]
  },
  {
   "cell_type": "code",
   "execution_count": null,
   "metadata": {},
   "outputs": [],
   "source": [
    "rawMap = '''COM)B\n",
    "B)C\n",
    "C)D\n",
    "D)E\n",
    "E)F\n",
    "B)G\n",
    "G)H\n",
    "D)I\n",
    "E)J\n",
    "J)K\n",
    "K)L'''\n",
    "\n",
    "print(rawMap)"
   ]
  },
  {
   "cell_type": "code",
   "execution_count": null,
   "metadata": {},
   "outputs": [],
   "source": [
    "def testMap(testNode):\n",
    "    directOrbit = orbitMap.getDirectOrbitFrom(testNode)\n",
    "    print('Check direct orbit:')\n",
    "    orbitsSoFar = 0\n",
    "    if directOrbit == None:\n",
    "        print('Node {} has no orbits'.format(testNode))\n",
    "    else:\n",
    "        print('Node {} orbits {}'.format(testNode, directOrbit.key))\n",
    "        orbitsSoFar = 1\n",
    "    \n",
    "    print('Check indirect orbit:')\n",
    "    indirects = orbitMap.getIndirectOrbitsFrom(testNode)\n",
    "    if indirects == None or len(indirects) == 0:\n",
    "        print('Node {} has no indirect orbits'.format(testNode))\n",
    "    else:\n",
    "        for node in indirects:\n",
    "            print(node.toString())\n",
    "        orbitsSoFar += len(indirects)\n",
    "    print('Node {} has {} total orbits'.format(testNode, orbitsSoFar))"
   ]
  },
  {
   "cell_type": "code",
   "execution_count": null,
   "metadata": {
    "scrolled": true
   },
   "outputs": [],
   "source": [
    "orbitMap = OMMap('COM')\n",
    "orbitMap.loadMap(rawMap)\n",
    "orbitMap.printMap()"
   ]
  },
  {
   "cell_type": "markdown",
   "metadata": {},
   "source": [
    "#### Test 1\n",
    "* D directly orbits C and indirectly orbits B and COM, a total of 3 orbits."
   ]
  },
  {
   "cell_type": "code",
   "execution_count": null,
   "metadata": {},
   "outputs": [],
   "source": [
    "testMap('D')"
   ]
  },
  {
   "cell_type": "markdown",
   "metadata": {},
   "source": [
    "#### Test 2\n",
    "* L directly orbits K and indirectly orbits J, E, D, C, B, and COM, a total of 7 orbits."
   ]
  },
  {
   "cell_type": "code",
   "execution_count": null,
   "metadata": {},
   "outputs": [],
   "source": [
    "testMap('L')"
   ]
  },
  {
   "cell_type": "markdown",
   "metadata": {},
   "source": [
    "#### Test 3\n",
    "* COM orbits nothing."
   ]
  },
  {
   "cell_type": "code",
   "execution_count": null,
   "metadata": {},
   "outputs": [],
   "source": [
    "testMap('COM')"
   ]
  },
  {
   "cell_type": "markdown",
   "metadata": {},
   "source": [
    "#### Test 4\n",
    "* The total number of direct and indirect orbits in this example is 42."
   ]
  },
  {
   "cell_type": "code",
   "execution_count": null,
   "metadata": {},
   "outputs": [],
   "source": [
    "orbitMap.getTotalOrbits()"
   ]
  },
  {
   "cell_type": "markdown",
   "metadata": {},
   "source": [
    "### Solution"
   ]
  },
  {
   "cell_type": "code",
   "execution_count": null,
   "metadata": {},
   "outputs": [],
   "source": [
    "input_6 = r'data\\aoc2019-input-day6.txt'\n",
    "with open(input_6, 'r') as f:\n",
    "#     data5 = [int(data) for data in f.read().split(',') if len(data) > 0]\n",
    "    data6 = f.read()\n",
    "print(data6)"
   ]
  },
  {
   "cell_type": "code",
   "execution_count": null,
   "metadata": {},
   "outputs": [],
   "source": [
    "orbitMap = OMMap('COM')\n",
    "orbitMap.loadMap(data6)\n"
   ]
  },
  {
   "cell_type": "code",
   "execution_count": null,
   "metadata": {},
   "outputs": [],
   "source": [
    "orbitMap.getTotalOrbits()"
   ]
  },
  {
   "cell_type": "markdown",
   "metadata": {},
   "source": [
    "Total orbits: 314702"
   ]
  },
  {
   "cell_type": "markdown",
   "metadata": {},
   "source": [
    "## Part 2"
   ]
  },
  {
   "cell_type": "code",
   "execution_count": null,
   "metadata": {},
   "outputs": [],
   "source": [
    "def solveDay6Part2(rawMap, fromNode, toNode, debug = False):\n",
    "    orbitMap = OMMap('COM')\n",
    "    orbitMap.loadMap(rawMap)\n",
    "    if debug:\n",
    "        orbitMap.printMap()\n",
    "    \n",
    "    #1. Mis órbitas\n",
    "    youOrbits = orbitMap.getIndirectOrbitsFrom(fromNode)\n",
    "    youOrbits.reverse()\n",
    "    youOrbits = youOrbits + [orbitMap.getDirectOrbitFrom(fromNode)]\n",
    "    \n",
    "    sanOrbits = orbitMap.getIndirectOrbitsFrom(toNode)\n",
    "    sanOrbits.reverse()\n",
    "    sanOrbits = sanOrbits + [orbitMap.getDirectOrbitFrom(toNode)]\n",
    "    \n",
    "    youName = orbitMap.nodes[fromNode].key\n",
    "    sanName = orbitMap.nodes[toNode].key\n",
    "    \n",
    "    if debug:\n",
    "        print('{} orbits:'.format(youName))\n",
    "        for node in youOrbits:\n",
    "            print(node.key)\n",
    "        print('{} orbits:'.format(sanName))\n",
    "        for node in sanOrbits:\n",
    "            print(node.key)\n",
    "    \n",
    "    while True:\n",
    "        nodeYOU = youOrbits[0]\n",
    "        if sanOrbits[0] == nodeYOU:\n",
    "            youOrbits = youOrbits[1:]\n",
    "            sanOrbits = sanOrbits[1:]\n",
    "        else:\n",
    "            break\n",
    "    \n",
    "    nexus = orbitMap.nodes[youOrbits[0].parentKey]\n",
    "    if debug:\n",
    "        print('NEXUS:', nexus.key)\n",
    "\n",
    "    if debug:\n",
    "        print('After the cull:')\n",
    "        print('{} orbits:'.format(youName))\n",
    "        for node in youOrbits:\n",
    "            print(node.key)\n",
    "        print('{} orbits:'.format(sanName))\n",
    "        for node in sanOrbits:\n",
    "            print(node.key)\n",
    "\n",
    "    movements = []\n",
    "    youOrbits.reverse()\n",
    "    if debug:\n",
    "        print('{} orbits:'.format(youName))\n",
    "        for node in youOrbits:\n",
    "            print(node.key)\n",
    "    \n",
    "    # Traverse my orbits :\n",
    "    for i in range(len(youOrbits)):\n",
    "        if i > 0:\n",
    "            movements.append(( youOrbits[i-1].key, youOrbits[i].key ))\n",
    "    \n",
    "    movements.append( (youOrbits[len(youOrbits) -1].key , nexus.key) )\n",
    "    movements.append( (nexus.key, sanOrbits[0].key))\n",
    "    \n",
    "    for i in range(len(sanOrbits)):\n",
    "        if i > 0:\n",
    "            movements.append( ( sanOrbits[i-1].key, sanOrbits[i].key))\n",
    "    \n",
    "    return movements"
   ]
  },
  {
   "cell_type": "code",
   "execution_count": null,
   "metadata": {},
   "outputs": [],
   "source": [
    "rawMap = '''COM)B\n",
    "B)C\n",
    "C)D\n",
    "D)E\n",
    "E)F\n",
    "B)G\n",
    "G)H\n",
    "D)I\n",
    "E)J\n",
    "J)K\n",
    "K)L\n",
    "K)YOU\n",
    "I)SAN'''\n",
    "\n",
    "print(rawMap)"
   ]
  },
  {
   "cell_type": "markdown",
   "metadata": {},
   "source": [
    "### Tests\n",
    "\n",
    "Given this input:\n",
    "\n",
    "<code>\n",
    "COM)B\n",
    "B)C\n",
    "C)D\n",
    "D)E\n",
    "E)F\n",
    "B)G\n",
    "G)H\n",
    "D)I\n",
    "E)J\n",
    "J)K\n",
    "K)L\n",
    "K)YOU\n",
    "I)SAN\n",
    "</code>\n",
    "\n",
    "<code>\n",
    "                          YOU\n",
    "                         /\n",
    "        G - H       J - K - L\n",
    "       /           /\n",
    "COM - B - C - D - E - F\n",
    "               \\\n",
    "                I - SAN\n",
    "</code>\n",
    "\n",
    "In this example, YOU are in orbit around K, and SAN is in orbit around I. To move from K to I, a minimum of 4 orbital transfers are required:\n",
    "\n",
    "* K to J\n",
    "* J to E\n",
    "* E to D\n",
    "* D to I"
   ]
  },
  {
   "cell_type": "code",
   "execution_count": null,
   "metadata": {},
   "outputs": [],
   "source": [
    "movements = solveDay6Part2(rawMap, 'YOU', 'SAN')\n",
    "print(movements)\n",
    "print(len(movements))"
   ]
  },
  {
   "cell_type": "markdown",
   "metadata": {},
   "source": [
    "### Solution"
   ]
  },
  {
   "cell_type": "code",
   "execution_count": null,
   "metadata": {},
   "outputs": [],
   "source": [
    "movements = solveDay6Part2(data6, 'YOU', 'SAN')\n",
    "print(movements)\n",
    "print(len(movements))"
   ]
  },
  {
   "cell_type": "markdown",
   "metadata": {},
   "source": [
    "439 movements"
   ]
  },
  {
   "cell_type": "code",
   "execution_count": null,
   "metadata": {},
   "outputs": [],
   "source": []
  }
 ],
 "metadata": {
  "kernelspec": {
   "display_name": "Python 3",
   "language": "python",
   "name": "python3"
  },
  "language_info": {
   "codemirror_mode": {
    "name": "ipython",
    "version": 3
   },
   "file_extension": ".py",
   "mimetype": "text/x-python",
   "name": "python",
   "nbconvert_exporter": "python",
   "pygments_lexer": "ipython3",
   "version": "3.6.9"
  }
 },
 "nbformat": 4,
 "nbformat_minor": 2
}
