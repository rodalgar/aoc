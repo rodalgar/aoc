{
 "cells": [
  {
   "cell_type": "markdown",
   "metadata": {},
   "source": [
    "# Day 10: Monitoring Station\n",
    "https://adventofcode.com/2019/day/10\n",
    "\n",
    "## Part 1"
   ]
  },
  {
   "cell_type": "code",
   "execution_count": null,
   "metadata": {},
   "outputs": [],
   "source": [
    "import numpy as np\n",
    "import urllib.request\n",
    "import math\n",
    "import itertools\n",
    "import re"
   ]
  },
  {
   "cell_type": "code",
   "execution_count": null,
   "metadata": {},
   "outputs": [],
   "source": [
    "def checkMapIsValid(string_map):\n",
    "    #Map must have one line, at least\n",
    "    if len(string_map) == 0:\n",
    "        return False\n",
    "    #First line must have columns\n",
    "    width = len(string_map[0])\n",
    "    if width == 0:\n",
    "        return False\n",
    "    \n",
    "    #All lines must have same length\n",
    "    for num_line in range(1, len(string_map)):\n",
    "        if len(string_map[num_line]) != width:\n",
    "            return False\n",
    "    return True\n",
    "    \n",
    "def loadMap(string_map):\n",
    "    assert checkMapIsValid(string_map), 'Map is not valid!'\n",
    "    \n",
    "    height = len(string_map)\n",
    "    width  = len(string_map[0])\n",
    "    \n",
    "    #Initializing zero-matrix and filling with one when an\n",
    "    #asteroid is found\n",
    "    int_map = np.zeros([height, width])\n",
    "    for num_line in range(height):\n",
    "        line = string_map[num_line]\n",
    "        for num_col in range(width):\n",
    "            asteroid = line[num_col:num_col+1]\n",
    "            if asteroid == '#':\n",
    "                int_map[num_line][num_col] = 1\n",
    "    \n",
    "    return int_map"
   ]
  },
  {
   "cell_type": "code",
   "execution_count": null,
   "metadata": {},
   "outputs": [],
   "source": [
    "string_map = ['..###.',\n",
    "              '.#....']"
   ]
  },
  {
   "cell_type": "code",
   "execution_count": null,
   "metadata": {},
   "outputs": [],
   "source": [
    "int_map = loadMap(string_map)\n",
    "print(string_map)\n",
    "print(int_map)"
   ]
  },
  {
   "cell_type": "code",
   "execution_count": null,
   "metadata": {},
   "outputs": [],
   "source": [
    "def getModulus(x, y):\n",
    "    return math.sqrt(math.pow(x, 2) + math.pow(y, 2))\n",
    "\n",
    "def probeAsteroid(int_map, asteroid_col, asteroid_line):\n",
    "    \n",
    "    height = len(int_map)\n",
    "    width  = len(int_map[0])\n",
    "    \n",
    "    #Starting point must be an asteroid...\n",
    "    assert int_map[asteroid_line][asteroid_col] == 1, f'There is no asteroid on [{asteroid_col}, {asteroid_line}]!'\n",
    "    \n",
    "    # Using the probing asteroid as origin, get a vector to other asteroids, to get distance and direction.\n",
    "    # We'll store all asteroids in a dictionary indexed by direction. The value of the dictionary will be\n",
    "    # a list of all asteroids on the same direction sorted by distance. Only the first one (or the only one)\n",
    "    # in this list will be visible.\n",
    "    dict_vectores = {}\n",
    "    for line in range(height):\n",
    "        for col in range(width):\n",
    "            #The asteroid is not visible to itself...\n",
    "            if line == asteroid_line and col == asteroid_col:\n",
    "                continue\n",
    "            #Only asteroids, please...\n",
    "            if int_map[line][col] == 0:\n",
    "                continue\n",
    "            norm_line = line - asteroid_line\n",
    "            norm_col  = col - asteroid_col\n",
    "            modulus = getModulus(norm_col, norm_line)\n",
    "            #Rounding to 10 decimal positions to avoid floating point problems...\n",
    "            norm_line = round(norm_line / modulus, 10)\n",
    "            norm_col  = round(norm_col / modulus, 10)\n",
    "            norm_coords = ( norm_col, norm_line )\n",
    "            \n",
    "            if not norm_coords in dict_vectores:\n",
    "                dict_vectores[norm_coords] = []\n",
    "            dict_vectores[norm_coords].append( ( modulus, ( col, line )  ) )\n",
    "\n",
    "    # For convenience we create two other dictionaries, one with only the visible ones and the other one\n",
    "    # with the no visible ones. This could have been made outside this function but oh, well..\n",
    "    #Para cada dirección, nos quedamos con el que menos módulo tiene\n",
    "    dict_visibles = {}\n",
    "    dict_novisibles = {}\n",
    "    for norm_coords in dict_vectores:\n",
    "        candidates = dict_vectores[norm_coords]\n",
    "        candidates.sort()\n",
    "        (modulus, map_coords) = candidates[0]\n",
    "        dict_visibles[map_coords] = modulus\n",
    "        for otro_asteroide in candidates[1:]:\n",
    "            (modulus, map_coords) = otro_asteroide\n",
    "            dict_novisibles[map_coords] = candidates[0]\n",
    "            \n",
    "    return len(dict_visibles), dict_vectores, dict_visibles, dict_novisibles"
   ]
  },
  {
   "cell_type": "code",
   "execution_count": null,
   "metadata": {},
   "outputs": [],
   "source": [
    "#A little convenience function to print results\n",
    "def printResult(result, x, y):\n",
    "    (num_visibles, dic, dic_vis, dic_novis) = result\n",
    "    print(f'Visible asteroids from ({x},{y}):', num_visibles)\n",
    "    print(f'All asteroids from ({x},{y}):', dic)\n",
    "    print(f'Visible asteroids from ({x},{y}):', dic_vis)\n",
    "    print(f'Non visible asteroids from ({x},{y}):', dic_novis)"
   ]
  },
  {
   "cell_type": "code",
   "execution_count": null,
   "metadata": {},
   "outputs": [],
   "source": [
    "printResult(probeAsteroid(int_map, 2, 0), 2, 0)"
   ]
  },
  {
   "cell_type": "code",
   "execution_count": null,
   "metadata": {},
   "outputs": [],
   "source": [
    "#Given a map, search the best location to locate the monitor station. We'll probe all asterorids to maximize\n",
    "#the number of asteroids found. This can be improved:\n",
    "# * Making a list of asteroids with coordinates. In very large and sparse maps should improve performance a lot.\n",
    "# * Pass the number of asteroids already found to the probing function so if 'asteroids already found' +\n",
    "#   'number of positions to probe yet' < 'maximum asteroids visible probing other asteroids' don't continue probing and\n",
    "#   process the next asteroid, because you are not going to improve the count already found.\n",
    "def searchBestLocation(int_map):\n",
    "    height = len(int_map)\n",
    "    width  = len(int_map[0])\n",
    "    \n",
    "    best_bet = -1\n",
    "    best_asteroid = None\n",
    "\n",
    "    for line in range(height):\n",
    "        for col in range(width):\n",
    "            if int_map[line][col] == 0:\n",
    "                continue\n",
    "            num_asteroids, _, _, _ = probeAsteroid(int_map, col, line)\n",
    "            \n",
    "            if num_asteroids > best_bet:\n",
    "                best_bet = num_asteroids\n",
    "                best_asteroid = (col, line)\n",
    "                \n",
    "    return best_asteroid, best_bet"
   ]
  },
  {
   "cell_type": "code",
   "execution_count": null,
   "metadata": {},
   "outputs": [],
   "source": [
    "best_asteroid, num_asteroids = searchBestLocation(int_map)\n",
    "print('Best location:', best_asteroid, 'Visible asteroids:', num_asteroids)"
   ]
  },
  {
   "cell_type": "markdown",
   "metadata": {},
   "source": [
    "### Tests\n",
    "\n",
    "#### Test 1:\n",
    "\n",
    "Map:\n",
    "\n",
    "```\n",
    ".#..#\n",
    ".....\n",
    "#####\n",
    "....#\n",
    "...##\n",
    "```\n",
    "\n",
    "Best location is (3, 4), 8 visible asteroids"
   ]
  },
  {
   "cell_type": "code",
   "execution_count": null,
   "metadata": {},
   "outputs": [],
   "source": [
    "string_map = ['.#..#',\n",
    "            '.....',\n",
    "            '#####',\n",
    "            '....#',\n",
    "            '...##']\n",
    "\n",
    "int_map = loadMap(string_map)\n",
    "print(int_map)\n",
    "searchBestLocation(int_map)"
   ]
  },
  {
   "cell_type": "code",
   "execution_count": null,
   "metadata": {},
   "outputs": [],
   "source": [
    "printResult(probeAsteroid(int_map, 1, 0), 1, 0)"
   ]
  },
  {
   "cell_type": "code",
   "execution_count": null,
   "metadata": {},
   "outputs": [],
   "source": [
    "printResult(probeAsteroid(int_map, 3, 4), 3,4)"
   ]
  },
  {
   "cell_type": "markdown",
   "metadata": {},
   "source": [
    "#### Test 2:\n",
    "\n",
    "Map:\n",
    "\n",
    "```\n",
    "......#.#.\n",
    "#..#.#....\n",
    "..#######.\n",
    ".#.#.###..\n",
    ".#..#.....\n",
    "..#....#.#\n",
    "#..#....#.\n",
    ".##.#..###\n",
    "##...#..#.\n",
    ".#....####\n",
    "```\n",
    "\n",
    "Best location is (5, 8), 33 visible asteroids"
   ]
  },
  {
   "cell_type": "code",
   "execution_count": null,
   "metadata": {},
   "outputs": [],
   "source": [
    "string_map = ['......#.#.',\n",
    "'#..#.#....',\n",
    "'..#######.',\n",
    "'.#.#.###..',\n",
    "'.#..#.....',\n",
    "'..#....#.#',\n",
    "'#..#....#.',\n",
    "'.##.#..###',\n",
    "'##...#..#.',\n",
    "'.#....####']\n",
    "\n",
    "\n",
    "int_map = loadMap(string_map)\n",
    "print(int_map)\n",
    "searchBestLocation(int_map)"
   ]
  },
  {
   "cell_type": "markdown",
   "metadata": {},
   "source": [
    "#### Test 3:\n",
    "\n",
    "Map:\n",
    "\n",
    "```\n",
    "#.#...#.#.\n",
    ".###....#.\n",
    ".#....#...\n",
    "##.#.#.#.#\n",
    "....#.#.#.\n",
    ".##..###.#\n",
    "..#...##..\n",
    "..##....##\n",
    "......#...\n",
    ".####.###.\n",
    "```\n",
    "\n",
    "Best location is (1, 2), 35 visible asteroids"
   ]
  },
  {
   "cell_type": "code",
   "execution_count": null,
   "metadata": {},
   "outputs": [],
   "source": [
    "string_map = ['#.#...#.#.',\n",
    "'.###....#.',\n",
    "'.#....#...',\n",
    "'##.#.#.#.#',\n",
    "'....#.#.#.',\n",
    "'.##..###.#',\n",
    "'..#...##..',\n",
    "'..##....##',\n",
    "'......#...',\n",
    "'.####.###.']\n",
    "\n",
    "int_map = loadMap(string_map)\n",
    "print(int_map)\n",
    "searchBestLocation(int_map)"
   ]
  },
  {
   "cell_type": "markdown",
   "metadata": {},
   "source": [
    "#### Test 4:\n",
    "\n",
    "Map:\n",
    "\n",
    "```\n",
    ".#..#..###\n",
    "####.###.#\n",
    "....###.#.\n",
    "..###.##.#\n",
    "##.##.#.#.\n",
    "....###..#\n",
    "..#.#..#.#\n",
    "#..#.#.###\n",
    ".##...##.#\n",
    ".....#.#..\n",
    "```\n",
    "\n",
    "Best location is (6, 3), 41 visible asteroids"
   ]
  },
  {
   "cell_type": "code",
   "execution_count": null,
   "metadata": {},
   "outputs": [],
   "source": [
    "string_map = ['.#..#..###',\n",
    "'####.###.#',\n",
    "'....###.#.',\n",
    "'..###.##.#',\n",
    "'##.##.#.#.',\n",
    "'....###..#',\n",
    "'..#.#..#.#',\n",
    "'#..#.#.###',\n",
    "'.##...##.#',\n",
    "'.....#.#..']\n",
    "\n",
    "\n",
    "int_map = loadMap(string_map)\n",
    "print(int_map)\n",
    "searchBestLocation(int_map)"
   ]
  },
  {
   "cell_type": "markdown",
   "metadata": {},
   "source": [
    "#### Test 5 (Big Example):\n",
    "\n",
    "Map:\n",
    "\n",
    "```\n",
    ".#..##.###...#######\n",
    "##.############..##.\n",
    ".#.######.########.#\n",
    ".###.#######.####.#.\n",
    "#####.##.#.##.###.##\n",
    "..#####..#.#########\n",
    "####################\n",
    "#.####....###.#.#.##\n",
    "##.#################\n",
    "#####.##.###..####..\n",
    "..######..##.#######\n",
    "####.##.####...##..#\n",
    ".#####..#.######.###\n",
    "##...#.##########...\n",
    "#.##########.#######\n",
    ".####.#.###.###.#.##\n",
    "....##.##.###..#####\n",
    ".#.#.###########.###\n",
    "#.#.#.#####.####.###\n",
    "###.##.####.##.#..##\n",
    "```\n",
    "\n",
    "Best location is (11, 13), 210 visible asteroids"
   ]
  },
  {
   "cell_type": "code",
   "execution_count": null,
   "metadata": {},
   "outputs": [],
   "source": [
    "big_example_string_map = ['.#..##.###...#######',\n",
    "'##.############..##.',\n",
    "'.#.######.########.#',\n",
    "'.###.#######.####.#.',\n",
    "'#####.##.#.##.###.##',\n",
    "'..#####..#.#########',\n",
    "'####################',\n",
    "'#.####....###.#.#.##',\n",
    "'##.#################',\n",
    "'#####.##.###..####..',\n",
    "'..######..##.#######',\n",
    "'####.##.####...##..#',\n",
    "'.#####..#.######.###',\n",
    "'##...#.##########...',\n",
    "'#.##########.#######',\n",
    "'.####.#.###.###.#.##',\n",
    "'....##.##.###..#####',\n",
    "'.#.#.###########.###',\n",
    "'#.#.#.#####.####.###',\n",
    "'###.##.####.##.#..##']\n",
    "\n",
    "\n",
    "big_example_int_map = loadMap(big_example_string_map)\n",
    "print(big_example_int_map)\n",
    "searchBestLocation(big_example_int_map)"
   ]
  },
  {
   "cell_type": "markdown",
   "metadata": {},
   "source": [
    "### Solution"
   ]
  },
  {
   "cell_type": "code",
   "execution_count": null,
   "metadata": {},
   "outputs": [],
   "source": [
    "input_10 = r'data\\aoc2019-input-day10.txt'\n",
    "with open(input_10, 'r') as f:\n",
    "    data10 = [re.sub(\"\\n\", \"\", l) for l in f.readlines()]\n",
    "data10"
   ]
  },
  {
   "cell_type": "code",
   "execution_count": null,
   "metadata": {},
   "outputs": [],
   "source": [
    "int_map_data10 = loadMap(data10)\n",
    "print(int_map_data10)\n",
    "searchBestLocation(int_map_data10)"
   ]
  },
  {
   "cell_type": "markdown",
   "metadata": {},
   "source": [
    ">>>SOLUTION: 253"
   ]
  },
  {
   "cell_type": "markdown",
   "metadata": {},
   "source": [
    "## Part 2"
   ]
  },
  {
   "cell_type": "code",
   "execution_count": null,
   "metadata": {},
   "outputs": [],
   "source": [
    "def getAngleInRads(x, y):\n",
    "    #Base cases, both axes, both ways\n",
    "    if x == 0:\n",
    "        if y >= 0:\n",
    "            return np.pi / 2\n",
    "        elif y < 0:\n",
    "            return 3 * np.pi / 2\n",
    "\n",
    "    if y == 0:\n",
    "        if x >= 0:\n",
    "            return 0\n",
    "        elif x < 0:\n",
    "            return np.pi\n",
    "    # vector (x, y)\n",
    "    # tan PHI = | y / x |\n",
    "    tang = np.abs( y / x )\n",
    "    angle = math.atan(tang)\n",
    "    \n",
    "    #Adjusting angle by quadrant\n",
    "    if x < 0 and y > 0: #Second quadrant\n",
    "        return np.pi - angle\n",
    "    elif x < 0 and y < 0:\n",
    "        return np.pi + angle #Third quadrant\n",
    "    elif x > 0 and y < 0:\n",
    "        return (2* np.pi) - angle #Forth quadrant\n",
    "    \n",
    "    return angle #First quadrant"
   ]
  },
  {
   "cell_type": "markdown",
   "metadata": {},
   "source": [
    "### Testing angle calculation"
   ]
  },
  {
   "cell_type": "code",
   "execution_count": null,
   "metadata": {},
   "outputs": [],
   "source": [
    "print('First quadrant bisection:', 'calculated:', getAngleInRads(1,1), 'expected:', np.pi / 4)\n",
    "print('Second quadrant bisection:', 'calculated:', getAngleInRads(-1,1), 'expected:', (3 * np.pi) / 4 )\n",
    "print('Third quadrant bisection:', 'calculated:', getAngleInRads(-1,-1), 'expected:', (5 * np.pi) / 4 )\n",
    "print('Fourth quadrant bisection:', 'calculated:', getAngleInRads(1,-1), 'expected:', (7 * np.pi) / 4 )\n",
    "\n",
    "print('+y axis:', 'calculated:', getAngleInRads(0,1), 'expected:', np.pi / 2 )\n",
    "print('-y axis:', 'calculated:', getAngleInRads(0,-1), 'expected:', (3 * np.pi) / 2 )\n",
    "print('+x axis:', 'calculated:', getAngleInRads(1,0), 'expected:', 0 )\n",
    "print('-x axis:', 'calculated:', getAngleInRads(-1,0), 'expected:', np.pi )"
   ]
  },
  {
   "cell_type": "code",
   "execution_count": null,
   "metadata": {},
   "outputs": [],
   "source": [
    "def sortAsteroidsForDestructionGroupedByDirection(all_asteroids, sort_clockwise=True):\n",
    "    newAngles = []\n",
    "    for i in all_asteroids:\n",
    "        x, y = i\n",
    "        #Flip y axis to get same coordinates system\n",
    "        y *= -1\n",
    "        angleRads = getAngleInRads(x, y)\n",
    "\n",
    "        #Because we want to start vaporizing asteroids in the y axis, we \"turn\" pi/2 rads the\n",
    "        #map so, at 0 rads we will be exactly over the station\n",
    "        newRads = angleRads - (np.pi / 2)\n",
    "        #If the asteroid was in the first quadrant, we add an entire turn so when they are reverse sorted\n",
    "        #by angle, they will be the first ones.\n",
    "        if newRads <= 0:\n",
    "            newRads += 2 * np.pi\n",
    "\n",
    "        #building new items: transformed angle, vector, list of all asteroids in the same direction, \n",
    "        #ordered by how far of the station they are\n",
    "        tup = ( newRads, i, all_asteroids[i])\n",
    "        newAngles.append(tup)\n",
    "    \n",
    "    #angles are counterclockwise, so...\n",
    "    newAngles.sort(reverse=sort_clockwise)\n",
    "        \n",
    "    return newAngles"
   ]
  },
  {
   "cell_type": "markdown",
   "metadata": {},
   "source": [
    "### Testing asteroid sorting"
   ]
  },
  {
   "cell_type": "markdown",
   "metadata": {},
   "source": [
    "#### Test 1:\n",
    "\n",
    "* Map (with station at absolute coordinates (8,3)):\n",
    "```\n",
    ".#....#####...#..\n",
    "##...##.#####..##\n",
    "##...#...#.#####.\n",
    "..#.....X...###..\n",
    "..#.#.....#....##\n",
    "```\n",
    "\n",
    "* Destruction order (from station point of view and map point of view):\n",
    "    * First 9\n",
    "        * (0, 2) -> ( 8, 1)\n",
    "        * (1, 3) -> ( 9, 0)\n",
    "        * (1, 2) -> ( 9, 1)\n",
    "        * (2, 3) -> (10, 0)\n",
    "        * (1, 1) -> ( 9, 2)\n",
    "        * (3, 2) -> (11, 1)\n",
    "        * (4, 2) -> (12, 1)\n",
    "        * (3, 1) -> (11, 2)\n",
    "        * (7, 2) -> (15, 1)\n",
    "    * Next 9\n",
    "        * ( 4, 1) -> (12, 2)\n",
    "        * ( 5, 1) -> (13, 2)\n",
    "        * ( 6, 1) -> (14, 2)\n",
    "        * ( 7, 1) -> (15, 2)\n",
    "        * ( 4, 0) -> (12, 3)\n",
    "        * ( 8,-1) -> (16, 4)\n",
    "        * ( 7,-1) -> (15, 4)\n",
    "        * ( 2,-1) -> (10, 4)\n",
    "        * (-4,-1) -> ( 4, 4)\n",
    "    * Next 9\n",
    "        * (-6,-1) -> ( 2, 4)\n",
    "        * (-6, 0) -> ( 2, 3)\n",
    "        * (-8, 1) -> ( 0, 2)\n",
    "        * (-7, 1) -> ( 1, 2)\n",
    "        * (-8, 2) -> ( 0, 1)\n",
    "        * (-7, 2) -> ( 1, 1)\n",
    "        * (-3, 1) -> ( 5, 2)\n",
    "        * (-7, 3) -> ( 1, 0)\n",
    "        * (-3, 2) -> ( 5, 1)\n",
    "    * Last 9\n",
    "        * (-2, 2) -> ( 6, 1)\n",
    "        * (-2, 3) -> ( 6, 0)\n",
    "        * (-1, 3) -> ( 7, 0)\n",
    "        * ( 0, 3) -> ( 8, 0) [Second round]\n",
    "        * ( 2, 2) -> (10, 1) [Second round]\n",
    "        * ( 6, 3) -> (14, 0) [Second round]\n",
    "        * ( 8, 2) -> (16, 1) [Second round]\n",
    "        * ( 5, 0) -> (13, 3) [Second round]\n",
    "        * ( 6, 0) -> (14, 3) [Second round]\n"
   ]
  },
  {
   "cell_type": "code",
   "execution_count": null,
   "metadata": {},
   "outputs": [],
   "source": [
    "#Test map as string\n",
    "string_map = ['.#....#####...#..',\n",
    "              '##...##.#####..##',\n",
    "              '##...#...#.#####.',\n",
    "              '..#.....#...###..',\n",
    "              '..#.#.....#....##']\n",
    "#Numeric representation\n",
    "int_map = loadMap(string_map)\n",
    "\n",
    "#Given (8,3) as station location, obtaining visibility of all asteriods from there\n",
    "_, all_asteroids_from_station, _, _ = probeAsteroid(int_map, 8, 3)\n",
    "\n",
    "#Ordering asteroids for destruction by angle. Grouped by the same direction\n",
    "sorted_asteroids = sortAsteroidsForDestructionGroupedByDirection(all_asteroids_from_station)\n",
    "\n",
    "#Showing visible asteroids in first turn, in groups of 9, like the example\n",
    "for i in range(len(sorted_asteroids)):\n",
    "    print(sorted_asteroids[i])\n",
    "    if (i + 1) % 9 == 0:\n",
    "        print(20 * '--')\n"
   ]
  },
  {
   "cell_type": "code",
   "execution_count": null,
   "metadata": {},
   "outputs": [],
   "source": [
    "def vaporizeAsteroids(clockwise_asteroids):\n",
    "    asteroid_counter = 1\n",
    "    asteroid_list = clockwise_asteroids\n",
    "    # Each iteration we traverse all directions in the list and build a new list\n",
    "    # with directions that have asteroids left. So, directions without any asteroid left are purged.\n",
    "    # Iterations ends when no direction is left.\n",
    "    while len(asteroid_list) > 0:\n",
    "        new_list = []\n",
    "        for i in asteroid_list:\n",
    "            (angle, direction, asteroids) = i\n",
    "            asteroid = asteroids[0]\n",
    "            (range_from_station, asteroid_coords) = asteroid\n",
    "            # Pew pew...\n",
    "            print('Vaporizing asteroid', asteroid_counter, 'at', asteroid_coords)\n",
    "            asteroid_counter += 1\n",
    "            asteroids = asteroids[1:]\n",
    "            if len(asteroids) > 0:\n",
    "                new_list.append( (angle, direction, asteroids)  )\n",
    "        asteroid_list = new_list\n",
    "    "
   ]
  },
  {
   "cell_type": "code",
   "execution_count": null,
   "metadata": {},
   "outputs": [],
   "source": [
    "vaporizeAsteroids(sorted_asteroids)"
   ]
  },
  {
   "cell_type": "markdown",
   "metadata": {},
   "source": [
    "#### Test 2\n",
    "In big example (with monitor station at (11, 13)):\n",
    "* The 1st asteroid to be vaporized is at 11,12.\n",
    "* The 2nd asteroid to be vaporized is at 12,1.\n",
    "* The 3rd asteroid to be vaporized is at 12,2.\n",
    "* The 10th asteroid to be vaporized is at 12,8.\n",
    "* The 20th asteroid to be vaporized is at 16,0.\n",
    "* The 50th asteroid to be vaporized is at 16,9.\n",
    "* The 100th asteroid to be vaporized is at 10,16.\n",
    "* The 199th asteroid to be vaporized is at 9,6.\n",
    "* The 200th asteroid to be vaporized is at 8,2.\n",
    "* The 201st asteroid to be vaporized is at 10,9.\n",
    "* The 299th and final asteroid to be vaporized is at 11,1."
   ]
  },
  {
   "cell_type": "code",
   "execution_count": null,
   "metadata": {},
   "outputs": [],
   "source": [
    "_, all_asteroids_from_station, _, _ = probeAsteroid(big_example_int_map, 11, 13)\n",
    "sorted_asteroids = sortAsteroidsForDestructionGroupedByDirection(all_asteroids_from_station)\n",
    "vaporizeAsteroids(sorted_asteroids)"
   ]
  },
  {
   "cell_type": "markdown",
   "metadata": {},
   "source": [
    "### Solution\n",
    "Monitor station at (11, 19) with 253 visible asteroids"
   ]
  },
  {
   "cell_type": "code",
   "execution_count": null,
   "metadata": {},
   "outputs": [],
   "source": [
    "_, all_asteroids_from_station, _, _ = probeAsteroid(int_map_data10, 11, 19)\n",
    "sorted_asteroids = sortAsteroidsForDestructionGroupedByDirection(all_asteroids_from_station)\n",
    "vaporizeAsteroids(sorted_asteroids)"
   ]
  },
  {
   "cell_type": "markdown",
   "metadata": {},
   "source": [
    "Vaporizing asteroid 200 at (8, 15)\n",
    "\n",
    ">>>Answer is 815"
   ]
  }
 ],
 "metadata": {
  "kernelspec": {
   "display_name": "Python 3",
   "language": "python",
   "name": "python3"
  },
  "language_info": {
   "codemirror_mode": {
    "name": "ipython",
    "version": 3
   },
   "file_extension": ".py",
   "mimetype": "text/x-python",
   "name": "python",
   "nbconvert_exporter": "python",
   "pygments_lexer": "ipython3",
   "version": "3.6.9"
  }
 },
 "nbformat": 4,
 "nbformat_minor": 2
}
