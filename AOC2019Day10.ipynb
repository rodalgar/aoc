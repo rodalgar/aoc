{
 "cells": [
  {
   "cell_type": "markdown",
   "metadata": {},
   "source": [
    "# Day 10: Monitoring Station\n",
    "https://adventofcode.com/2019/day/10\n",
    "\n",
    "## Part 1"
   ]
  },
  {
   "cell_type": "code",
   "execution_count": null,
   "metadata": {},
   "outputs": [],
   "source": [
    "import numpy as np\n",
    "import urllib.request\n",
    "import math\n",
    "import itertools\n",
    "import re"
   ]
  },
  {
   "cell_type": "code",
   "execution_count": null,
   "metadata": {},
   "outputs": [],
   "source": [
    "def checkMapIsValid(string_map):\n",
    "    #Debe haber filas en el mapa\n",
    "    if len(string_map) == 0:\n",
    "        return False\n",
    "    #La primera fila debe tener columnas\n",
    "    width = len(string_map[0])\n",
    "    if width == 0:\n",
    "        return False\n",
    "    \n",
    "    #Todas las filas deben tener la misma longitud\n",
    "    for num_line in range(1, len(string_map)):\n",
    "        if len(string_map[num_line]) != width:\n",
    "            return False\n",
    "    return True\n",
    "    \n",
    "def loadMap(string_map):\n",
    "    if not checkMapIsValid(string_map):\n",
    "        print('El mapa no es válido.')\n",
    "        return None\n",
    "    \n",
    "    height = len(string_map)\n",
    "    width  = len(string_map[0])\n",
    "    \n",
    "    int_map = np.zeros([height, width])\n",
    "    for num_line in range(height):\n",
    "        line = string_map[num_line]\n",
    "        for num_col in range(width):\n",
    "            asteroid = line[num_col:num_col+1]\n",
    "            if asteroid == '#':\n",
    "                int_map[num_line][num_col] = 1\n",
    "    \n",
    "    return int_map"
   ]
  },
  {
   "cell_type": "code",
   "execution_count": null,
   "metadata": {},
   "outputs": [],
   "source": [
    "string_map = ['..###.',\n",
    "              '.#....']"
   ]
  },
  {
   "cell_type": "code",
   "execution_count": null,
   "metadata": {},
   "outputs": [],
   "source": [
    "string_map"
   ]
  },
  {
   "cell_type": "code",
   "execution_count": null,
   "metadata": {},
   "outputs": [],
   "source": [
    "int_map = loadMap(string_map)\n",
    "int_map"
   ]
  },
  {
   "cell_type": "code",
   "execution_count": null,
   "metadata": {},
   "outputs": [],
   "source": [
    "def probeAsteroid(int_map, asteroid_col, asteroid_line):\n",
    "    \n",
    "    height = len(int_map)\n",
    "    width  = len(int_map[0])\n",
    "    \n",
    "    # Comprobar que soy un asteroide...\n",
    "    assert int_map[asteroid_line][asteroid_col] == 1, f'There is no asteroid on [{asteroid_col}, {asteroid_line}]!'\n",
    "    \n",
    "    # obtener los vectores a cada uno de los demás asteroides\n",
    "    dict_vectores = {}\n",
    "    for line in range(height):\n",
    "        for col in range(width):\n",
    "            #Un asteroide no se detecta a sí mismo\n",
    "            if line == asteroid_line and col == asteroid_col:\n",
    "                continue\n",
    "            if int_map[line][col] == 0:\n",
    "                continue\n",
    "            norm_line = line - asteroid_line\n",
    "            norm_col  = col - asteroid_col\n",
    "            modulus = math.sqrt(math.pow(norm_line, 2) + math.pow(norm_col, 2))\n",
    "            norm_line = round(norm_line / modulus, 10)\n",
    "            norm_col  = round(norm_col / modulus, 10)\n",
    "            norm_coords = ( norm_col, norm_line )\n",
    "            \n",
    "            if not norm_coords in dict_vectores:\n",
    "                dict_vectores[norm_coords] = []\n",
    "            dict_vectores[norm_coords].append( ( modulus, ( col, line )  ) )\n",
    "\n",
    "    print(dict_vectores)\n",
    "    #Para cada dirección, nos quedamos con el que menos módulo tiene\n",
    "    dict_visibles = {}\n",
    "    dict_novisibles = {}\n",
    "    for norm_coords in dict_vectores:\n",
    "        print(norm_coords)\n",
    "        candidates = dict_vectores[norm_coords]\n",
    "        candidates.sort()\n",
    "        print(candidates)\n",
    "        print(20 * '-')\n",
    "        (modulus, map_coords) = candidates[0]\n",
    "        dict_visibles[map_coords] = modulus\n",
    "        for otro_asteroide in candidates[1:]:\n",
    "            (modulus, map_coords) = otro_asteroide\n",
    "            dict_novisibles[map_coords] = candidates[0]\n",
    "            \n",
    "    return len(dict_visibles), dict_vectores, dict_visibles, dict_novisibles"
   ]
  },
  {
   "cell_type": "code",
   "execution_count": null,
   "metadata": {},
   "outputs": [],
   "source": [
    "num_visibles, dic, dic_vis, dic_novis = probeAsteroid(int_map, 2, 0)"
   ]
  },
  {
   "cell_type": "code",
   "execution_count": null,
   "metadata": {},
   "outputs": [],
   "source": [
    "dic"
   ]
  },
  {
   "cell_type": "code",
   "execution_count": null,
   "metadata": {},
   "outputs": [],
   "source": [
    "dic_vis"
   ]
  },
  {
   "cell_type": "code",
   "execution_count": null,
   "metadata": {},
   "outputs": [],
   "source": [
    "dic_novis"
   ]
  },
  {
   "cell_type": "code",
   "execution_count": null,
   "metadata": {},
   "outputs": [],
   "source": [
    "def searchBestLocation(int_map):\n",
    "    height = len(int_map)\n",
    "    width  = len(int_map[0])\n",
    "    \n",
    "    best_bet = -1\n",
    "    best_asteroid = None\n",
    "\n",
    "    for line in range(height):\n",
    "        for col in range(width):\n",
    "            if int_map[line][col] == 0:\n",
    "                continue\n",
    "            num_asteroids, _, _, _ = probeAsteroid(int_map, col, line)\n",
    "            \n",
    "            if num_asteroids > best_bet:\n",
    "                best_bet = num_asteroids\n",
    "                best_asteroid = (col, line)\n",
    "                \n",
    "    return best_asteroid, best_bet"
   ]
  },
  {
   "cell_type": "code",
   "execution_count": null,
   "metadata": {},
   "outputs": [],
   "source": [
    "searchBestLocation(int_map)"
   ]
  },
  {
   "cell_type": "markdown",
   "metadata": {},
   "source": [
    "### Test\n",
    "\n",
    "#### Test 1:\n",
    "\n",
    "Map:\n",
    "\n",
    "```\n",
    ".#..#\n",
    ".....\n",
    "#####\n",
    "....#\n",
    "...##\n",
    "```\n",
    "\n",
    "Best location is (3, 4), 8 visible asteroids"
   ]
  },
  {
   "cell_type": "code",
   "execution_count": null,
   "metadata": {},
   "outputs": [],
   "source": [
    "string_map = ['.#..#',\n",
    "            '.....',\n",
    "            '#####',\n",
    "            '....#',\n",
    "            '...##']\n",
    "\n",
    "int_map = loadMap(string_map)\n",
    "print(int_map)\n",
    "searchBestLocation(int_map)"
   ]
  },
  {
   "cell_type": "code",
   "execution_count": null,
   "metadata": {},
   "outputs": [],
   "source": [
    "probeAsteroid(int_map, 1, 0)"
   ]
  },
  {
   "cell_type": "code",
   "execution_count": null,
   "metadata": {},
   "outputs": [],
   "source": [
    "probeAsteroid(int_map, 3, 4)"
   ]
  },
  {
   "cell_type": "markdown",
   "metadata": {},
   "source": [
    "#### Test 2:\n",
    "\n",
    "Map:\n",
    "\n",
    "```\n",
    "......#.#.\n",
    "#..#.#....\n",
    "..#######.\n",
    ".#.#.###..\n",
    ".#..#.....\n",
    "..#....#.#\n",
    "#..#....#.\n",
    ".##.#..###\n",
    "##...#..#.\n",
    ".#....####\n",
    "```\n",
    "\n",
    "Best location is (5, 8), 33 visible asteroids"
   ]
  },
  {
   "cell_type": "code",
   "execution_count": null,
   "metadata": {},
   "outputs": [],
   "source": [
    "string_map = ['......#.#.',\n",
    "'#..#.#....',\n",
    "'..#######.',\n",
    "'.#.#.###..',\n",
    "'.#..#.....',\n",
    "'..#....#.#',\n",
    "'#..#....#.',\n",
    "'.##.#..###',\n",
    "'##...#..#.',\n",
    "'.#....####']\n",
    "\n",
    "\n",
    "int_map = loadMap(string_map)\n",
    "print(int_map)\n",
    "searchBestLocation(int_map)"
   ]
  },
  {
   "cell_type": "markdown",
   "metadata": {},
   "source": [
    "#### Test 3:\n",
    "\n",
    "Map:\n",
    "\n",
    "```\n",
    "#.#...#.#.\n",
    ".###....#.\n",
    ".#....#...\n",
    "##.#.#.#.#\n",
    "....#.#.#.\n",
    ".##..###.#\n",
    "..#...##..\n",
    "..##....##\n",
    "......#...\n",
    ".####.###.\n",
    "```\n",
    "\n",
    "Best location is (1, 2), 35 visible asteroids"
   ]
  },
  {
   "cell_type": "code",
   "execution_count": null,
   "metadata": {},
   "outputs": [],
   "source": [
    "string_map = ['#.#...#.#.',\n",
    "'.###....#.',\n",
    "'.#....#...',\n",
    "'##.#.#.#.#',\n",
    "'....#.#.#.',\n",
    "'.##..###.#',\n",
    "'..#...##..',\n",
    "'..##....##',\n",
    "'......#...',\n",
    "'.####.###.']\n",
    "\n",
    "int_map = loadMap(string_map)\n",
    "print(int_map)\n",
    "searchBestLocation(int_map)"
   ]
  },
  {
   "cell_type": "markdown",
   "metadata": {},
   "source": [
    "#### Test 4:\n",
    "\n",
    "Map:\n",
    "\n",
    "```\n",
    ".#..#..###\n",
    "####.###.#\n",
    "....###.#.\n",
    "..###.##.#\n",
    "##.##.#.#.\n",
    "....###..#\n",
    "..#.#..#.#\n",
    "#..#.#.###\n",
    ".##...##.#\n",
    ".....#.#..\n",
    "```\n",
    "\n",
    "Best location is (6, 3), 41 visible asteroids"
   ]
  },
  {
   "cell_type": "code",
   "execution_count": null,
   "metadata": {},
   "outputs": [],
   "source": [
    "string_map = ['.#..#..###',\n",
    "'####.###.#',\n",
    "'....###.#.',\n",
    "'..###.##.#',\n",
    "'##.##.#.#.',\n",
    "'....###..#',\n",
    "'..#.#..#.#',\n",
    "'#..#.#.###',\n",
    "'.##...##.#',\n",
    "'.....#.#..']\n",
    "\n",
    "\n",
    "int_map = loadMap(string_map)\n",
    "print(int_map)\n",
    "searchBestLocation(int_map)"
   ]
  },
  {
   "cell_type": "markdown",
   "metadata": {},
   "source": [
    "#### Test 5:\n",
    "\n",
    "Map:\n",
    "\n",
    "```\n",
    ".#..##.###...#######\n",
    "##.############..##.\n",
    ".#.######.########.#\n",
    ".###.#######.####.#.\n",
    "#####.##.#.##.###.##\n",
    "..#####..#.#########\n",
    "####################\n",
    "#.####....###.#.#.##\n",
    "##.#################\n",
    "#####.##.###..####..\n",
    "..######..##.#######\n",
    "####.##.####...##..#\n",
    ".#####..#.######.###\n",
    "##...#.##########...\n",
    "#.##########.#######\n",
    ".####.#.###.###.#.##\n",
    "....##.##.###..#####\n",
    ".#.#.###########.###\n",
    "#.#.#.#####.####.###\n",
    "###.##.####.##.#..##\n",
    "```\n",
    "\n",
    "Best location is (11, 13), 210 visible asteroids"
   ]
  },
  {
   "cell_type": "code",
   "execution_count": null,
   "metadata": {},
   "outputs": [],
   "source": [
    "string_map = ['.#..##.###...#######',\n",
    "'##.############..##.',\n",
    "'.#.######.########.#',\n",
    "'.###.#######.####.#.',\n",
    "'#####.##.#.##.###.##',\n",
    "'..#####..#.#########',\n",
    "'####################',\n",
    "'#.####....###.#.#.##',\n",
    "'##.#################',\n",
    "'#####.##.###..####..',\n",
    "'..######..##.#######',\n",
    "'####.##.####...##..#',\n",
    "'.#####..#.######.###',\n",
    "'##...#.##########...',\n",
    "'#.##########.#######',\n",
    "'.####.#.###.###.#.##',\n",
    "'....##.##.###..#####',\n",
    "'.#.#.###########.###',\n",
    "'#.#.#.#####.####.###',\n",
    "'###.##.####.##.#..##']\n",
    "\n",
    "\n",
    "int_map = loadMap(string_map)\n",
    "print(int_map)\n",
    "searchBestLocation(int_map)"
   ]
  },
  {
   "cell_type": "markdown",
   "metadata": {},
   "source": [
    "### Solution"
   ]
  },
  {
   "cell_type": "code",
   "execution_count": null,
   "metadata": {},
   "outputs": [],
   "source": [
    "input_10 = r'aoc2019-input-day10.txt'\n",
    "with open(input_10, 'r') as f:\n",
    "#     data9 = [int(data) for data in f.read().split(',') if len(data) > 0]\n",
    "    data10 = [re.sub(\"\\n\", \"\", l) for l in f.readlines()]\n",
    "data10"
   ]
  },
  {
   "cell_type": "code",
   "execution_count": null,
   "metadata": {},
   "outputs": [],
   "source": [
    "int_map = loadMap(data10)\n",
    "print(int_map)\n",
    "searchBestLocation(int_map)"
   ]
  },
  {
   "cell_type": "markdown",
   "metadata": {},
   "source": [
    ">>>SOLUTION: 253"
   ]
  },
  {
   "cell_type": "markdown",
   "metadata": {},
   "source": [
    "## Part 2"
   ]
  },
  {
   "cell_type": "code",
   "execution_count": null,
   "metadata": {},
   "outputs": [],
   "source": [
    "num_visibles, dic, dic_vis, dic_novis = probeAsteroid(int_map, 11, 19)"
   ]
  },
  {
   "cell_type": "code",
   "execution_count": null,
   "metadata": {},
   "outputs": [],
   "source": [
    "num_visibles"
   ]
  },
  {
   "cell_type": "code",
   "execution_count": null,
   "metadata": {},
   "outputs": [],
   "source": [
    "dic"
   ]
  },
  {
   "cell_type": "code",
   "execution_count": null,
   "metadata": {},
   "outputs": [],
   "source": []
  }
 ],
 "metadata": {
  "kernelspec": {
   "display_name": "Python 3",
   "language": "python",
   "name": "python3"
  },
  "language_info": {
   "codemirror_mode": {
    "name": "ipython",
    "version": 3
   },
   "file_extension": ".py",
   "mimetype": "text/x-python",
   "name": "python",
   "nbconvert_exporter": "python",
   "pygments_lexer": "ipython3",
   "version": "3.6.9"
  }
 },
 "nbformat": 4,
 "nbformat_minor": 2
}
