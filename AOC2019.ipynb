{
 "cells": [
  {
   "cell_type": "markdown",
   "metadata": {},
   "source": [
    "# Day 1: The Tyranny of the Rocket Equation\n",
    "https://adventofcode.com/2019/day/1"
   ]
  },
  {
   "cell_type": "code",
   "execution_count": null,
   "metadata": {},
   "outputs": [],
   "source": [
    "import numpy as np\n",
    "import urllib.request\n",
    "import math"
   ]
  },
  {
   "cell_type": "markdown",
   "metadata": {},
   "source": [
    "## Part 1"
   ]
  },
  {
   "cell_type": "code",
   "execution_count": null,
   "metadata": {},
   "outputs": [],
   "source": [
    "def calculateFuel(modules, debug=False):\n",
    "    if debug:\n",
    "        output = [(x // 3) - 2 for x in modules]\n",
    "        print('input', modules)\n",
    "        print('output', output)\n",
    "        return np.sum(output)\n",
    "    else:\n",
    "        return np.sum([ (x // 3) - 2 for x in modules])\n",
    "\n",
    "def calculateFuelByModule(modules):\n",
    "    return [ (x // 3) - 2 for x in modules]"
   ]
  },
  {
   "cell_type": "code",
   "execution_count": null,
   "metadata": {},
   "outputs": [],
   "source": [
    "input = np.random.randint(1, 5000, 5)\n",
    "input"
   ]
  },
  {
   "cell_type": "code",
   "execution_count": null,
   "metadata": {},
   "outputs": [],
   "source": [
    "calculateFuel(input, debug=True)"
   ]
  },
  {
   "cell_type": "code",
   "execution_count": null,
   "metadata": {},
   "outputs": [],
   "source": [
    "calculateFuelByModule(input)"
   ]
  },
  {
   "cell_type": "markdown",
   "metadata": {},
   "source": [
    "### Tests\n",
    "* For a mass of 12, divide by 3 and round down to get 4, then subtract 2 to get 2.\n",
    "* For a mass of 14, dividing by 3 and rounding down still yields 4, so the fuel required is also 2.\n",
    "* For a mass of 1969, the fuel required is 654.\n",
    "* For a mass of 100756, the fuel required is 33583."
   ]
  },
  {
   "cell_type": "code",
   "execution_count": null,
   "metadata": {},
   "outputs": [],
   "source": [
    "massTest = [ 12, 14, 1969, 100756 ]\n",
    "calculateFuel(massTest, debug=True)"
   ]
  },
  {
   "cell_type": "code",
   "execution_count": null,
   "metadata": {},
   "outputs": [],
   "source": [
    "print(calculateFuel([12], debug = True))\n",
    "print(calculateFuel([14], debug = True))\n",
    "print(calculateFuel([1969], debug = True))\n",
    "print(calculateFuel([100756], debug = True))"
   ]
  },
  {
   "cell_type": "code",
   "execution_count": null,
   "metadata": {},
   "outputs": [],
   "source": [
    "print(calculateFuelByModule([12]))\n",
    "print(calculateFuelByModule([14]))\n",
    "print(calculateFuelByModule([1969]))\n",
    "print(calculateFuelByModule([100756]))"
   ]
  },
  {
   "cell_type": "markdown",
   "metadata": {},
   "source": [
    "### Solution"
   ]
  },
  {
   "cell_type": "code",
   "execution_count": null,
   "metadata": {},
   "outputs": [],
   "source": [
    "input_1 = r'C:\\Users\\rodrigo\\Notebooks\\aoc2019-input-day1.txt'\n",
    "with open(input_1, 'r') as f:\n",
    "    data = [int(data) for data in f.read().split('\\n') if len(data) > 0]"
   ]
  },
  {
   "cell_type": "code",
   "execution_count": null,
   "metadata": {},
   "outputs": [],
   "source": [
    "calculateFuel(data, debug=True)"
   ]
  },
  {
   "cell_type": "markdown",
   "metadata": {},
   "source": [
    "## Part 2"
   ]
  },
  {
   "cell_type": "markdown",
   "metadata": {},
   "source": [
    "### Tests\n",
    "* A module of mass 14 requires 2 fuel. This fuel requires no further fuel (2 divided by 3 and rounded down is 0, which would call for a negative fuel), so the total fuel required is still just 2.\n",
    "* At first, a module of mass 1969 requires 654 fuel. Then, this fuel requires 216 more fuel (654 / 3 - 2). 216 then requires 70 more fuel, which requires 21 fuel, which requires 5 fuel, which requires no further fuel. So, the total fuel required for a module of mass 1969 is 654 + 216 + 70 + 21 + 5 = 966.\n",
    "* The fuel required by a module of mass 100756 and its fuel is: 33583 + 11192 + 3728 + 1240 + 411 + 135 + 43 + 12 + 2 = 50346.\n",
    "\n",
    "Nótese que se calcula el fuel de la masa igual que el del fuel adicional."
   ]
  },
  {
   "cell_type": "code",
   "execution_count": null,
   "metadata": {},
   "outputs": [],
   "source": [
    "def calculateAdditionalFuel(fuelSoFar):\n",
    "#     print('Entrando', fuelSoFar)\n",
    "    extra_fuel = calculateFuelByModule([fuelSoFar])[0]\n",
    "    if extra_fuel <= 0:\n",
    "        return 0\n",
    "    \n",
    "    return extra_fuel + calculateAdditionalFuel(extra_fuel)"
   ]
  },
  {
   "cell_type": "code",
   "execution_count": null,
   "metadata": {},
   "outputs": [],
   "source": [
    "mass = 14\n",
    "initial_fuel = calculateFuelByModule([mass])[0]\n",
    "final_fuel = initial_fuel + calculateAdditionalFuel(initial_fuel)\n",
    "print(final_fuel)"
   ]
  },
  {
   "cell_type": "code",
   "execution_count": null,
   "metadata": {},
   "outputs": [],
   "source": [
    "calculateAdditionalFuel(14)"
   ]
  },
  {
   "cell_type": "code",
   "execution_count": null,
   "metadata": {},
   "outputs": [],
   "source": [
    "mass = 1969\n",
    "initial_fuel = calculateFuelByModule([mass])[0]\n",
    "final_fuel = initial_fuel + calculateAdditionalFuel(initial_fuel)\n",
    "print(final_fuel)"
   ]
  },
  {
   "cell_type": "code",
   "execution_count": null,
   "metadata": {},
   "outputs": [],
   "source": [
    "calculateAdditionalFuel(1969)"
   ]
  },
  {
   "cell_type": "code",
   "execution_count": null,
   "metadata": {
    "scrolled": true
   },
   "outputs": [],
   "source": [
    "mass = 100756\n",
    "initial_fuel = calculateFuelByModule([mass])[0]\n",
    "final_fuel = initial_fuel + calculateAdditionalFuel(initial_fuel)\n",
    "print(final_fuel)"
   ]
  },
  {
   "cell_type": "code",
   "execution_count": null,
   "metadata": {},
   "outputs": [],
   "source": [
    "calculateAdditionalFuel(100756)"
   ]
  },
  {
   "cell_type": "code",
   "execution_count": null,
   "metadata": {},
   "outputs": [],
   "source": [
    "# [(m, calculateFuelByModule([m])[0], calculateAdditionalFuel(calculateFuelByModule([m])[0]), calculateAdditionalFuel(m)) for m in data]"
   ]
  },
  {
   "cell_type": "code",
   "execution_count": null,
   "metadata": {},
   "outputs": [],
   "source": [
    "np.sum([calculateAdditionalFuel(m) for m in data])"
   ]
  },
  {
   "cell_type": "markdown",
   "metadata": {},
   "source": [
    "# Day 2: 1202 Program Alarm\n",
    "https://adventofcode.com/2019/day/2\n",
    "\n",
    "## Part 1"
   ]
  },
  {
   "cell_type": "code",
   "execution_count": null,
   "metadata": {},
   "outputs": [],
   "source": [
    "class Operation():\n",
    "    endComputations = False\n",
    "    #TODO: Podríamos poner aquí el \"tamaño\" de la operación (los parámetros \n",
    "    # que tiene) para así avanzar el contador de programa. Y para validar en el programa\n",
    "    # que están todos los parámetros necesarios. Para casos donde haya\n",
    "    # operaciones con un número de parámetros diferente.\n",
    "    \n",
    "    def mustEndComputations(self):\n",
    "        return self.endComputations\n",
    "    \n",
    "    def checkParameter(self, program, PCparam):\n",
    "        if program[PCparam] > len(program):\n",
    "            raise Exception('Parameter at {} out of bounds {}'.format(program[PCparam], len(program)))\n",
    "    \n",
    "    def checkValidation(self, program, PC):\n",
    "        #comprobar que todas las posiciones indicadas tienen sentido en el programa (desbordamientos...)\n",
    "        #TODO: hacerlo!\n",
    "        pass\n",
    "    \n",
    "    def performComputation(self, program, PC):\n",
    "        pass\n",
    "    \n",
    "    def compute(self, program, PC):\n",
    "        self.checkValidation(program, PC)\n",
    "        self.performComputation(program, PC)\n",
    "\n",
    "        \n",
    "        \n",
    "class Addition(Operation):\n",
    "    def checkValidation(self, program, PC):\n",
    "        self.checkParameter(program, PC + 1)\n",
    "        self.checkParameter(program, PC + 2)\n",
    "        self.checkParameter(program, PC + 3)\n",
    "        \n",
    "    def performComputation(self, program, PC):\n",
    "#         print('Performing Addition')\n",
    "        program[program[PC + 3]] = program[program[PC + 1]] + program[program[PC + 2]]\n",
    "        \n",
    "\n",
    "\n",
    "class Multiply(Operation):\n",
    "    def performComputation(self, program, PC):\n",
    "#         print('Performing Multiply')\n",
    "        program[program[PC + 3]] = program[program[PC + 1]] * program[program[PC + 2]]\n",
    "\n",
    "    \n",
    "    \n",
    "class Quit(Operation):\n",
    "    def __init__(self):\n",
    "        self.endComputations = True\n",
    "    def performComputation(self, program, CP):\n",
    "#         print('Performing Quit')\n",
    "        pass"
   ]
  },
  {
   "cell_type": "code",
   "execution_count": null,
   "metadata": {},
   "outputs": [],
   "source": [
    "class IntcodeInterpreter():\n",
    "    \n",
    "    PC = 0\n",
    "    operations = {}\n",
    "    \n",
    "    def __init__(self):\n",
    "        # TODO: Se podría inyectar el juego de instrucciones\n",
    "        self.operations[1]  = Addition()\n",
    "        self.operations[2]  = Multiply()\n",
    "        self.operations[99] = Quit()\n",
    "    \n",
    "    def compute(self, program):\n",
    "        #Analizar el dato que hay en la posición CP\n",
    "        while True:\n",
    "            opcode = program[self.PC]\n",
    "            operation = self.getOperation(opcode)\n",
    "            \n",
    "            if operation is None:\n",
    "                raise Exception('UNKNOWN opcode {} at position {}.\\nPROGRAM: {}'.format(opcode, self.PC, program))\n",
    "            \n",
    "            if operation.mustEndComputations():\n",
    "                break\n",
    "            else:\n",
    "                operation.compute(program, self.PC)\n",
    "#                 print('Advancing PC', self.PC, self.PC + 4)\n",
    "                #TODO: Este 4 podría ser en función de la operación leída\n",
    "                self.PC += 4\n",
    "        \n",
    "        #Devolvemos todo program, dado que no sabemos a priori dónde está el resultado.\n",
    "        #mmm.. a no ser que nos guardemos dónde ha escrito la última operación computada... :D\n",
    "        return program\n",
    "\n",
    "    def getOperation(self, opcode):\n",
    "        if opcode in self.operations:\n",
    "            return self.operations[opcode]\n",
    "        return None"
   ]
  },
  {
   "cell_type": "markdown",
   "metadata": {},
   "source": [
    "### Tests"
   ]
  },
  {
   "cell_type": "code",
   "execution_count": null,
   "metadata": {},
   "outputs": [],
   "source": [
    "def assertIsEqual(a, b):\n",
    "    return a == b"
   ]
  },
  {
   "cell_type": "markdown",
   "metadata": {},
   "source": [
    "#### Test Case 1\n",
    "1,9,10,3,2,3,11,0,99,30,40,50 becomes 3500,9,10,70, 2,3,11,0, 99, 30,40,50"
   ]
  },
  {
   "cell_type": "code",
   "execution_count": null,
   "metadata": {},
   "outputs": [],
   "source": [
    "program = [1,9,10,3,2,3,11,0,99,30,40,50]\n",
    "expected = [3500,9,10,70, 2,3,11,0, 99, 30,40,50]\n",
    "\n",
    "result = IntcodeInterpreter().compute(program)\n",
    "print(assertIsEqual(result, expected), result, expected)"
   ]
  },
  {
   "cell_type": "markdown",
   "metadata": {},
   "source": [
    "#### Test Case 2\n",
    "1,0,0,0,99 becomes 2,0,0,0,99 (1 + 1 = 2)."
   ]
  },
  {
   "cell_type": "code",
   "execution_count": null,
   "metadata": {},
   "outputs": [],
   "source": [
    "program = [1,0,0,0,99]\n",
    "expected = [2,0,0,0,99]\n",
    "\n",
    "result = IntcodeInterpreter().compute(program)\n",
    "print(assertIsEqual(result, expected), result, expected)"
   ]
  },
  {
   "cell_type": "markdown",
   "metadata": {},
   "source": [
    "#### Test Case 3\n",
    "2,3,0,3,99 becomes 2,3,0,6,99 (3 * 2 = 6)."
   ]
  },
  {
   "cell_type": "code",
   "execution_count": null,
   "metadata": {},
   "outputs": [],
   "source": [
    "program = [2,3,0,3,99]\n",
    "expected = [2,3,0,6,99]\n",
    "\n",
    "result = IntcodeInterpreter().compute(program)\n",
    "print(assertIsEqual(result, expected), result, expected)"
   ]
  },
  {
   "cell_type": "markdown",
   "metadata": {},
   "source": [
    "#### Test Case 4\n",
    "2,4,4,5,99,0 becomes 2,4,4,5,99,9801 (99 * 99 = 9801)."
   ]
  },
  {
   "cell_type": "code",
   "execution_count": null,
   "metadata": {},
   "outputs": [],
   "source": [
    "program = [2,4,4,5,99,0]\n",
    "expected = [2,4,4,5,99,9801]\n",
    "\n",
    "result = IntcodeInterpreter().compute(program)\n",
    "print(assertIsEqual(result, expected), result, expected)"
   ]
  },
  {
   "cell_type": "markdown",
   "metadata": {},
   "source": [
    "#### Test Case 5\n",
    "1,1,1,4,99,5,6,0,99 becomes 30,1,1,4,2,5,6,0,99."
   ]
  },
  {
   "cell_type": "code",
   "execution_count": null,
   "metadata": {},
   "outputs": [],
   "source": [
    "program = [1,1,1,4,99,5,6,0,99]\n",
    "expected = [30,1,1,4,2,5,6,0,99]\n",
    "\n",
    "result = IntcodeInterpreter().compute(program)\n",
    "print(assertIsEqual(result, expected), result, expected)"
   ]
  },
  {
   "cell_type": "markdown",
   "metadata": {},
   "source": [
    "### Solution"
   ]
  },
  {
   "cell_type": "code",
   "execution_count": null,
   "metadata": {},
   "outputs": [],
   "source": [
    "input_2 = r'C:\\Users\\rodrigo\\Notebooks\\aoc2019-input-day2.txt'\n",
    "# with open(input_2, 'r') as f:\n",
    "#     data2 = f.read()\n",
    "with open(input_2, 'r') as f:\n",
    "    data2 = [int(data) for data in f.read().split(',') if len(data) > 0]    "
   ]
  },
  {
   "cell_type": "code",
   "execution_count": null,
   "metadata": {},
   "outputs": [],
   "source": [
    "data2"
   ]
  },
  {
   "cell_type": "markdown",
   "metadata": {},
   "source": [
    "before running the program, replace position 1 with the value 12 and replace position 2 with the value 2."
   ]
  },
  {
   "cell_type": "code",
   "execution_count": null,
   "metadata": {},
   "outputs": [],
   "source": [
    "data2[1] = 12\n",
    "data2[2] = 2\n",
    "data2"
   ]
  },
  {
   "cell_type": "code",
   "execution_count": null,
   "metadata": {},
   "outputs": [],
   "source": [
    "IntcodeInterpreter().compute(data2.copy())"
   ]
  },
  {
   "cell_type": "markdown",
   "metadata": {},
   "source": [
    "## Part 2\n",
    "Find the input noun and verb that cause the program to produce the output 19690720. What is 100 * noun + verb? (For example, if noun=12 and verb=2, the answer would be 1202.)"
   ]
  },
  {
   "cell_type": "code",
   "execution_count": null,
   "metadata": {},
   "outputs": [],
   "source": [
    "found = False\n",
    "for noun in range(0, 100):\n",
    "    if not found:\n",
    "        for verb in range(0, 100):\n",
    "            program = data2.copy()\n",
    "            program[1] = noun\n",
    "            program[2] = verb\n",
    "            result = IntcodeInterpreter().compute(program)[0]\n",
    "            print( noun * 100 + verb, noun, verb, result )\n",
    "            if result == 19690720:\n",
    "                found = True\n",
    "                break\n",
    "       "
   ]
  },
  {
   "cell_type": "markdown",
   "metadata": {},
   "source": [
    "# Day 3: Crossed Wires\n",
    "https://adventofcode.com/2019/day/3"
   ]
  },
  {
   "cell_type": "markdown",
   "metadata": {},
   "source": [
    "## Part 1"
   ]
  },
  {
   "cell_type": "code",
   "execution_count": null,
   "metadata": {},
   "outputs": [],
   "source": [
    "class Segmento():\n",
    "    xorigen = yorigen = 0\n",
    "    xdestino = ydestino = 0\n",
    "    \n",
    "    def __init__(self, x0, y0, xd, yd):\n",
    "        self.xorigen = x0\n",
    "        self.yorigen = y0\n",
    "        self.xdestino = xd\n",
    "        self.ydestino = yd\n",
    "    \n",
    "    def isHorizontal(self):\n",
    "        return self.xorigen != self.xdestino\n",
    "    \n",
    "    def getLeftestX(self):\n",
    "        if self.xorigen <= self.xdestino:\n",
    "            return self.xorigen\n",
    "        else:\n",
    "            return self.xdestino\n",
    "    \n",
    "    def getUppestY(self):\n",
    "        if self.yorigen >= self.ydestino:\n",
    "            return self.yorigen\n",
    "        else:\n",
    "            return self.ydestino\n",
    "    \n",
    "    def intersects(self, other):\n",
    "        if self.isHorizontal():\n",
    "            if other.isHorizontal():\n",
    "                #paralelos horizontalmente\n",
    "                #1. misma altura\n",
    "                #2. se solapan horizontalmente\n",
    "                if self.yorigen != other.yorigen:\n",
    "                    return False\n",
    "                else:\n",
    "                    if (self.xorigen >= other.xorigen and self.xorigen <= other.xdestino) or (self.xdestino >= other.xorigen and self.xdestino <= other.xdestino):\n",
    "                            return True\n",
    "                    else:\n",
    "                        return False\n",
    "            else:\n",
    "                #Perpendiculares, yo horizontal\n",
    "                if other.xorigen < self.xorigen or other.xorigen > self.xdestino:\n",
    "                    return False\n",
    "\n",
    "    \n",
    "    def toString(self):\n",
    "        return '({}, {}) -> ({}, {}) Hor? {} Mas izq {} Mas alto {}'.format(self.xorigen, self.yorigen, self.xdestino, self.ydestino, self.isHorizontal(), self.getLeftestX(), self.getUppestY())\n",
    "    \n",
    "def obtainSegments(rawpath):\n",
    "    path = rawpath.split(',')\n",
    "    segments = []\n",
    "    \n",
    "    xorigen = yorigen = 0\n",
    "    for step in path:\n",
    "        xdestino = xorigen\n",
    "        ydestino = yorigen\n",
    "        \n",
    "        print(step, step[:1])\n",
    "        direction = step[:1]\n",
    "        distance = int(step[1:])\n",
    "        if direction == 'U':\n",
    "            ydestino += distance\n",
    "        elif direction == 'D':\n",
    "            ydestino -= distance\n",
    "        elif direction == 'R':\n",
    "            xdestino += distance\n",
    "        elif direction == 'L':\n",
    "            xdestino -= distance\n",
    "        else:\n",
    "            raise Exception('UNKNOWN direction {} from step {}'.format(direction, step))\n",
    "        \n",
    "        if distance == 0:\n",
    "            print('WARNING: Segment of magnitude 0!! Step {}'.format(step))\n",
    "        \n",
    "        # Segment in (xorigen, yorigen) -> (xdestino, ydestino)\n",
    "        print('SEGMENT ({},{}) -> ({}, {})'.format(xorigen, yorigen, xdestino, ydestino))\n",
    "        \n",
    "        segments.append(Segmento(xorigen, yorigen, xdestino, ydestino))\n",
    "        \n",
    "        xorigen = xdestino\n",
    "        yorigen = ydestino\n",
    "    \n",
    "    return segments"
   ]
  },
  {
   "cell_type": "markdown",
   "metadata": {},
   "source": [
    "Los hilos se pueden ver como un conjunto de puntos en un espacio discreto bimensional. Obtenemos esos puntos. Los cruces entre ellos será la intersección de los conjuntos de puntos de cada hilo."
   ]
  },
  {
   "cell_type": "code",
   "execution_count": null,
   "metadata": {},
   "outputs": [],
   "source": [
    "def obtainPoints(rawpath):\n",
    "    path = rawpath.split(',')\n",
    "    \n",
    "    points = []\n",
    "    xorigen = yorigen = 0\n",
    "    for step in path:\n",
    "#         print(step, step[:1])\n",
    "        direction = step[:1]\n",
    "        distance = int(step[1:])\n",
    "        \n",
    "        if direction == 'U':\n",
    "            for i in range(distance):\n",
    "                yorigen += 1\n",
    "                points.append((xorigen, yorigen))\n",
    "        elif direction == 'D':\n",
    "            for i in range(distance):\n",
    "                yorigen -= 1\n",
    "                points.append((xorigen, yorigen))\n",
    "        elif direction == 'R':\n",
    "            for i in range(distance):\n",
    "                xorigen += 1\n",
    "                points.append((xorigen, yorigen))\n",
    "        elif direction == 'L':\n",
    "            for i in range(distance):\n",
    "                xorigen -= 1\n",
    "                points.append((xorigen, yorigen))\n",
    "        else:\n",
    "            raise Exception('UNKNOWN direction {} from step {}'.format(direction, step))\n",
    "\n",
    "    return points\n",
    "\n",
    "def getIntersections(wire1, wire2):\n",
    "    return list(set(wire1).intersection(wire2))\n",
    "\n",
    "def manhattanPoints(point):\n",
    "#     print('ENTRANDO', point)\n",
    "    (x, y) = point\n",
    "    return abs(x) + abs(y)\n",
    "\n",
    "def getCloseIntersection(intersections):\n",
    "    if len(intersections) == 0:\n",
    "        return None, None\n",
    "    \n",
    "    closestIntersection = intersections[:1][0]\n",
    "    intersections = intersections[1:]\n",
    "    \n",
    "    closestDistance = manhattanPoints(closestIntersection)\n",
    "    for otherIntersection in intersections:\n",
    "        newDistance = manhattanPoints(otherIntersection)\n",
    "        if newDistance < closestDistance:\n",
    "            closestDistance = newDistance\n",
    "            closestIntersection = otherIntersection\n",
    "    \n",
    "    return closestIntersection, closestDistance"
   ]
  },
  {
   "cell_type": "code",
   "execution_count": null,
   "metadata": {},
   "outputs": [],
   "source": [
    "def solveDay3Part1(wire1, wire2):\n",
    "    puntosHilo1 = obtainPoints(wire1)\n",
    "    puntosHilo2 = obtainPoints(wire2)\n",
    "    intersections = getIntersections(puntosHilo1, puntosHilo2)\n",
    "    return getCloseIntersection(intersections)"
   ]
  },
  {
   "cell_type": "markdown",
   "metadata": {},
   "source": [
    "### Tests\n",
    "\n",
    "#### Test 1\n",
    "\n",
    "* hilo1: R8,U5,L5,D3\n",
    "* hilo2: U7,R6,D4,L4\n",
    "\n",
    "These wires cross at two locations (marked X), but the lower-left one is closer to the central port: its distance is 3 + 3 = 6."
   ]
  },
  {
   "cell_type": "code",
   "execution_count": null,
   "metadata": {},
   "outputs": [],
   "source": [
    "hilo1 = 'R8,U5,L5,D3'\n",
    "hilo2 = 'U7,R6,D4,L4'\n",
    "\n",
    "solveDay3Part1(hilo1, hilo2)"
   ]
  },
  {
   "cell_type": "markdown",
   "metadata": {},
   "source": [
    "#### Test 2\n",
    "* hilo1: R75,D30,R83,U83,L12,D49,R71,U7,L72\n",
    "* hilo2: U62,R66,U55,R34,D71,R55,D58,R83\n",
    "\n",
    "distance 159"
   ]
  },
  {
   "cell_type": "code",
   "execution_count": null,
   "metadata": {},
   "outputs": [],
   "source": [
    "hilo1 = 'R75,D30,R83,U83,L12,D49,R71,U7,L72'\n",
    "hilo2 = 'U62,R66,U55,R34,D71,R55,D58,R83'\n",
    "\n",
    "solveDay3Part1(hilo1, hilo2)"
   ]
  },
  {
   "cell_type": "markdown",
   "metadata": {},
   "source": [
    "#### Test 3\n",
    "* hilo1: R98,U47,R26,D63,R33,U87,L62,D20,R33,U53,R51\n",
    "* hilo2: U98,R91,D20,R16,D67,R40,U7,R15,U6,R7\n",
    "\n",
    "distance 135"
   ]
  },
  {
   "cell_type": "code",
   "execution_count": null,
   "metadata": {},
   "outputs": [],
   "source": [
    "hilo1 = 'R98,U47,R26,D63,R33,U87,L62,D20,R33,U53,R51'\n",
    "hilo2 = 'U98,R91,D20,R16,D67,R40,U7,R15,U6,R7'\n",
    "\n",
    "solveDay3Part1(hilo1, hilo2)"
   ]
  },
  {
   "cell_type": "markdown",
   "metadata": {},
   "source": [
    "### Solution"
   ]
  },
  {
   "cell_type": "code",
   "execution_count": null,
   "metadata": {},
   "outputs": [],
   "source": [
    "input_3 = r'C:\\Users\\rodrigo\\Notebooks\\aoc2019-input-day3.txt'\n",
    "with open(input_3, 'r') as f:\n",
    "    realWire1 = f.readline()\n",
    "    realWire2 = f.readline()\n",
    "print('WIRE1:', realWire1)\n",
    "print('WIRE2:', realWire2)"
   ]
  },
  {
   "cell_type": "code",
   "execution_count": null,
   "metadata": {},
   "outputs": [],
   "source": [
    "solveDay3Part1(realWire1, realWire2)"
   ]
  },
  {
   "cell_type": "markdown",
   "metadata": {},
   "source": [
    "((181, 376), 557)"
   ]
  },
  {
   "cell_type": "markdown",
   "metadata": {},
   "source": [
    "## Part 2"
   ]
  },
  {
   "cell_type": "code",
   "execution_count": null,
   "metadata": {},
   "outputs": [],
   "source": [
    "def walkWireToPoint(wire, point):\n",
    "    position = wire.index(point)\n",
    "    \n",
    "    if position < 0:\n",
    "        raise Exception('Intersection {} not found in wire!! {}'.format(point, wire))\n",
    "    \n",
    "    #sumamos 1 porque el índice empieza desde 0\n",
    "    return position + 1\n",
    "\n",
    "def distanceToIntersection(wire1, wire2, point):\n",
    "    distance1 = walkWireToPoint(wire1, point)\n",
    "    distance2 = walkWireToPoint(wire2, point)\n",
    "    \n",
    "    return distance1 + distance2\n",
    "\n",
    "def solveDay3Part2(wire1, wire2):\n",
    "    puntosHilo1 = obtainPoints(wire1)\n",
    "    puntosHilo2 = obtainPoints(wire2)\n",
    "    intersections = getIntersections(puntosHilo1, puntosHilo2)\n",
    "    \n",
    "    if len(intersections) == 0:\n",
    "        return None, None\n",
    "    \n",
    "    closestIntersection = intersections[:1][0]\n",
    "    intersections = intersections[1:]\n",
    "\n",
    "    closestDistance = distanceToIntersection(puntosHilo1, puntosHilo2, closestIntersection)\n",
    "    for otherIntersection in intersections:\n",
    "        newDistance = distanceToIntersection(puntosHilo1, puntosHilo2, otherIntersection)\n",
    "        if newDistance < closestDistance:\n",
    "            closestDistance = newDistance\n",
    "            closestIntersection = otherIntersection\n",
    "    \n",
    "    return closestIntersection, closestDistance"
   ]
  },
  {
   "cell_type": "markdown",
   "metadata": {},
   "source": [
    "### Tests\n",
    "\n",
    "#### Test 1\n",
    "\n",
    "* hilo1: R8,U5,L5,D3\n",
    "* hilo2: U7,R6,D4,L4\n",
    "\n",
    "The intersection closest to the central port is reached after 8+5+5+2 = 20 steps by the first wire and 7+6+4+3 = 20 steps by the second wire for a total of 20+20 = 40 steps.\n",
    "\n",
    "However, the top-right intersection is better: the first wire takes only 8+5+2 = 15 and the second wire takes only 7+6+2 = 15, a total of 15+15 = 30 steps."
   ]
  },
  {
   "cell_type": "code",
   "execution_count": null,
   "metadata": {},
   "outputs": [],
   "source": [
    "hilo1 = 'R8,U5,L5,D3'\n",
    "hilo2 = 'U7,R6,D4,L4'\n",
    "\n",
    "solveDay3Part2(hilo1, hilo2)"
   ]
  },
  {
   "cell_type": "markdown",
   "metadata": {},
   "source": [
    "#### Test 2\n",
    "* hilo1: R75,D30,R83,U83,L12,D49,R71,U7,L72\n",
    "* hilo2: U62,R66,U55,R34,D71,R55,D58,R83\n",
    "\n",
    "610 steps"
   ]
  },
  {
   "cell_type": "code",
   "execution_count": null,
   "metadata": {},
   "outputs": [],
   "source": [
    "hilo1 = 'R75,D30,R83,U83,L12,D49,R71,U7,L72'\n",
    "hilo2 = 'U62,R66,U55,R34,D71,R55,D58,R83'\n",
    "\n",
    "solveDay3Part2(hilo1, hilo2)"
   ]
  },
  {
   "cell_type": "markdown",
   "metadata": {},
   "source": [
    "#### Test 3\n",
    "* hilo1: R98,U47,R26,D63,R33,U87,L62,D20,R33,U53,R51\n",
    "* hilo2: U98,R91,D20,R16,D67,R40,U7,R15,U6,R7\n",
    "\n",
    "410 steps"
   ]
  },
  {
   "cell_type": "code",
   "execution_count": null,
   "metadata": {},
   "outputs": [],
   "source": [
    "hilo1 = 'R98,U47,R26,D63,R33,U87,L62,D20,R33,U53,R51'\n",
    "hilo2 = 'U98,R91,D20,R16,D67,R40,U7,R15,U6,R7'\n",
    "\n",
    "solveDay3Part2(hilo1, hilo2)"
   ]
  },
  {
   "cell_type": "markdown",
   "metadata": {},
   "source": [
    "### Solution"
   ]
  },
  {
   "cell_type": "code",
   "execution_count": null,
   "metadata": {},
   "outputs": [],
   "source": [
    "print('WIRE1:', realWire1)\n",
    "print('WIRE2:', realWire2)"
   ]
  },
  {
   "cell_type": "code",
   "execution_count": null,
   "metadata": {},
   "outputs": [],
   "source": [
    "solveDay3Part2(realWire1, realWire2)"
   ]
  },
  {
   "cell_type": "markdown",
   "metadata": {},
   "source": [
    "((1128, 478), 56410)"
   ]
  },
  {
   "cell_type": "markdown",
   "metadata": {},
   "source": [
    "# Day 4: Secure Container\n",
    "https://adventofcode.com/2019/day/4\n",
    "\n",
    "\n",
    "## Part 1"
   ]
  },
  {
   "cell_type": "code",
   "execution_count": null,
   "metadata": {},
   "outputs": [],
   "source": [
    "def validateCodePart1(code):\n",
    "    #TODO: Revisar para el caso de tamaños impares\n",
    "    codesize = len(code)\n",
    "    hayRepetido = False\n",
    "    for i in range(codesize):\n",
    "        if i == codesize // 2 :\n",
    "#             print('vamos por la mitad')\n",
    "            break\n",
    "#         print(i, code[i], code[-i-1])\n",
    "        #1. Los valores del final no pueden ser mayores que los del principio\n",
    "        if code[-i-1] < code[i]:\n",
    "#             print('ERROR: desde atrás se decrementa {} > {}'.format(code[-i-1], code[i]))\n",
    "            return False\n",
    "        #2. Los valores consecutivos deben ser monónotos crecientes (hacia adelante no miramos la primera posición...)\n",
    "        if i > 0:\n",
    "            if code[i] < code[i-1]:\n",
    "#                 print('ERROR: desde delante no es monótono creciente: {} < {}'.format(code[i], code[i-1]))\n",
    "                return False\n",
    "        if code[-i-1] < code[-i-2]:\n",
    "#                 print('ERROR: desde atrás no es monótono creciente: {} < {}'.format(code[-i-1], code[-i-2]))\n",
    "                return False\n",
    "        #3. Miramos a ver si tenemos repetición (por delante y por detrás)\n",
    "        if code[i] == code[i-1]:\n",
    "            hayRepetido = True\n",
    "        if code[-i-1] == code[-i-2]:\n",
    "            hayRepetido = True\n",
    "\n",
    "    #En este punto hemos comprobado la condición de monótono creciente del código\n",
    "    #Así que la validez depende de si hay o no al menos un valor consecutivo igual\n",
    "    if not hayRepetido:\n",
    "#         print('ERROR: no pair detected!')\n",
    "        return False\n",
    "\n",
    "    return True"
   ]
  },
  {
   "cell_type": "markdown",
   "metadata": {},
   "source": [
    "### Tests\n",
    "\n",
    "#### Test 1\n",
    "111111 meets these criteria (double 11, never decreases).\n"
   ]
  },
  {
   "cell_type": "code",
   "execution_count": null,
   "metadata": {},
   "outputs": [],
   "source": [
    "code = '111111'\n",
    "expected = True\n",
    "\n",
    "result = validateCodePart1(code)\n",
    "print( result == expected )"
   ]
  },
  {
   "cell_type": "markdown",
   "metadata": {},
   "source": [
    "#### Test 2\n",
    "223450 does not meet these criteria (decreasing pair of digits 50)."
   ]
  },
  {
   "cell_type": "code",
   "execution_count": null,
   "metadata": {},
   "outputs": [],
   "source": [
    "code = '223450'\n",
    "expected = False\n",
    "\n",
    "result = validateCodePart1(code)\n",
    "print( result == expected )"
   ]
  },
  {
   "cell_type": "markdown",
   "metadata": {},
   "source": [
    "#### Test 3\n",
    "123789 does not meet these criteria (no double)."
   ]
  },
  {
   "cell_type": "code",
   "execution_count": null,
   "metadata": {},
   "outputs": [],
   "source": [
    "code = '123789'\n",
    "expected = False\n",
    "\n",
    "result = validateCodePart1(code)\n",
    "print( result == expected )"
   ]
  },
  {
   "cell_type": "markdown",
   "metadata": {},
   "source": [
    "### Solution"
   ]
  },
  {
   "cell_type": "code",
   "execution_count": null,
   "metadata": {},
   "outputs": [],
   "source": [
    "raw_input = '172851-675869'\n",
    "raw_input = raw_input.split('-')\n",
    "\n",
    "print(raw_input)\n",
    "lbound = int(raw_input[0])\n",
    "ubound = int(raw_input[1])"
   ]
  },
  {
   "cell_type": "code",
   "execution_count": null,
   "metadata": {},
   "outputs": [],
   "source": [
    "def solveDay4(validator, lower_bound, upper_bound):\n",
    "    correctos = 0\n",
    "    for i in range(lower_bound, upper_bound + 1):\n",
    "        if validator(str(i)):\n",
    "            correctos += 1\n",
    "            print('\\t{} es OK!!'.format(i))\n",
    "        if i % 1000 == 0:\n",
    "            print(i)\n",
    "\n",
    "    print('Hay {} códigos correctos.'.format(correctos))"
   ]
  },
  {
   "cell_type": "code",
   "execution_count": null,
   "metadata": {},
   "outputs": [],
   "source": [
    "solveDay4(validateCodePart1, lbound, ubound )"
   ]
  },
  {
   "cell_type": "markdown",
   "metadata": {},
   "source": [
    "Hay 1660 códigos correctos."
   ]
  },
  {
   "cell_type": "markdown",
   "metadata": {},
   "source": [
    "## Part 2"
   ]
  },
  {
   "cell_type": "code",
   "execution_count": null,
   "metadata": {},
   "outputs": [],
   "source": [
    "def validateCodePart2(code):\n",
    "    codesize = len(code)\n",
    "    for i in range(codesize):\n",
    "        if i == codesize // 2 :\n",
    "#             print('vamos por la mitad')\n",
    "            break\n",
    "#         print(i, code[i], code[-i-1])\n",
    "        #1. Los valores del final no pueden ser mayores que los del principio\n",
    "        if code[-i-1] < code[i]:\n",
    "#             print('ERROR: desde atrás se decrementa {} > {}'.format(code[-i-1], code[i]))\n",
    "            return False\n",
    "        #2. Los valores consecutivos deben ser monónotos crecientes (hacia adelante no miramos la primera posición...)\n",
    "        if i > 0:\n",
    "            if code[i] < code[i-1]:\n",
    "#                 print('ERROR: desde delante no es monótono creciente: {} < {}'.format(code[i], code[i-1]))\n",
    "                return False\n",
    "        if code[-i-1] < code[-i-2]:\n",
    "#                 print('ERROR: desde atrás no es monótono creciente: {} < {}'.format(code[-i-1], code[-i-2]))\n",
    "                return False\n",
    "\n",
    "    #3. Miramos a ver si tenemos repetición hacia adelante\n",
    "    caracter = None\n",
    "    ocurrencias = 0\n",
    "    for i in range(codesize):\n",
    "#         print('analizando doble {} {}. Ocurrencias {}'.format(i, code[i], ocurrencias))\n",
    "        if i == 0:\n",
    "            caracter = code[i]\n",
    "            ocurrencias = 1\n",
    "        else:\n",
    "            if code[i] == code[i-1]:\n",
    "                #Coincido con la anterior\n",
    "                ocurrencias += 1\n",
    "            else:\n",
    "                #No coincido con la anterior. Si tengo un ocurrencias de 2 es que he cerrado una pareja!\n",
    "                if ocurrencias == 2:\n",
    "                    return True\n",
    "                else:\n",
    "                    caracter = code[i]\n",
    "                    ocurrencias = 1\n",
    "\n",
    "    #Llegar aquí es que no has encontrado pareja durante el recorrido del código, pero aún es posible\n",
    "    #ser correcto si la pareja está justo al final del código (donde ya no puedes validar ante un cambio\n",
    "    #porque no hay más símbolos. Eso será si en este punto ocurrencias es exáctamente 2\n",
    "    return ocurrencias == 2"
   ]
  },
  {
   "cell_type": "markdown",
   "metadata": {},
   "source": [
    "### Tests\n",
    "\n",
    "#### Test 1\n",
    "112233 meets these criteria because the digits never decrease and all repeated digits are exactly two digits long."
   ]
  },
  {
   "cell_type": "code",
   "execution_count": null,
   "metadata": {},
   "outputs": [],
   "source": [
    "code = '112233'\n",
    "expected = True\n",
    "\n",
    "result = validateCodePart2(code)\n",
    "print( result == expected )"
   ]
  },
  {
   "cell_type": "markdown",
   "metadata": {},
   "source": [
    "#### Test 2\n",
    "123444 no longer meets the criteria (the repeated 44 is part of a larger group of 444)."
   ]
  },
  {
   "cell_type": "code",
   "execution_count": null,
   "metadata": {},
   "outputs": [],
   "source": [
    "code = '123444'\n",
    "expected = False\n",
    "\n",
    "result = validateCodePart2(code)\n",
    "print( result == expected )"
   ]
  },
  {
   "cell_type": "markdown",
   "metadata": {},
   "source": [
    "#### Test 3\n",
    "111122 meets the criteria (even though 1 is repeated more than twice, it still contains a double 22)."
   ]
  },
  {
   "cell_type": "code",
   "execution_count": null,
   "metadata": {},
   "outputs": [],
   "source": [
    "code = '111122'\n",
    "expected = True\n",
    "\n",
    "result = validateCodePart2(code)\n",
    "print( result == expected )"
   ]
  },
  {
   "cell_type": "markdown",
   "metadata": {},
   "source": [
    "### Solution"
   ]
  },
  {
   "cell_type": "code",
   "execution_count": null,
   "metadata": {
    "scrolled": true
   },
   "outputs": [],
   "source": [
    "solveDay4(validateCodePart2, lbound, ubound )"
   ]
  },
  {
   "cell_type": "markdown",
   "metadata": {},
   "source": [
    "Hay 1135 códigos correctos."
   ]
  },
  {
   "cell_type": "code",
   "execution_count": null,
   "metadata": {},
   "outputs": [],
   "source": []
  }
 ],
 "metadata": {
  "kernelspec": {
   "display_name": "Python 3",
   "language": "python",
   "name": "python3"
  },
  "language_info": {
   "codemirror_mode": {
    "name": "ipython",
    "version": 3
   },
   "file_extension": ".py",
   "mimetype": "text/x-python",
   "name": "python",
   "nbconvert_exporter": "python",
   "pygments_lexer": "ipython3",
   "version": "3.7.4"
  }
 },
 "nbformat": 4,
 "nbformat_minor": 2
}
